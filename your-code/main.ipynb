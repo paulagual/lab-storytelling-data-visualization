{
 "cells": [
  {
   "cell_type": "markdown",
   "metadata": {
    "extensions": {
     "jupyter_dashboards": {
      "version": 1,
      "views": {
       "grid_default": {},
       "report_default": {
        "hidden": false
       }
      }
     }
    }
   },
   "source": [
    "# Storytelling Data Visualization Lab\n",
    "\n",
    "In this lab you'll use a dataset called `housing_prices.csv` which contains the sales data of houses. The dataset and descriptions of the columns are available from [Kaggle](https://www.kaggle.com/c/house-prices-advanced-regression-techniques/data). For your convenience, you can review the descriptions of the data columns from [here](data-description.txt).\n",
    "\n",
    "Pretend you are a data analyst at an investment company where the board decided to make investments in real estates. Your boss asked you to analyze this housing sales dataset and present to the investment managers on **what features of houses are strong indicators of the final sale price**. You need to present your findings in intuitive ways so that the investment managers understand where your conclusions come from.\n",
    "\n",
    "#### You will use the appropriate data visualization graphs to tell your stories."
   ]
  },
  {
   "cell_type": "markdown",
   "metadata": {
    "extensions": {
     "jupyter_dashboards": {
      "version": 1,
      "views": {
       "grid_default": {},
       "report_default": {
        "hidden": false
       }
      }
     }
    }
   },
   "source": [
    "## Challenge 1 - Understanding the Dataset\n",
    "\n",
    "After receiving the data and clarifying your objectives with your boss, you will first try to understand the dataset. This allows you to decide how you will start your research in the next step.\n",
    "\n",
    "#### First, import the basic libraries and the dataset."
   ]
  },
  {
   "cell_type": "code",
   "execution_count": 1,
   "metadata": {
    "extensions": {
     "jupyter_dashboards": {
      "version": 1,
      "views": {
       "grid_default": {},
       "report_default": {
        "hidden": false
       }
      }
     }
    }
   },
   "outputs": [
    {
     "data": {
      "text/html": [
       "        <script type=\"text/javascript\">\n",
       "        window.PlotlyConfig = {MathJaxConfig: 'local'};\n",
       "        if (window.MathJax) {MathJax.Hub.Config({SVG: {font: \"STIX-Web\"}});}\n",
       "        if (typeof require !== 'undefined') {\n",
       "        require.undef(\"plotly\");\n",
       "        requirejs.config({\n",
       "            paths: {\n",
       "                'plotly': ['https://cdn.plot.ly/plotly-latest.min']\n",
       "            }\n",
       "        });\n",
       "        require(['plotly'], function(Plotly) {\n",
       "            window._Plotly = Plotly;\n",
       "        });\n",
       "        }\n",
       "        </script>\n",
       "        "
      ]
     },
     "metadata": {},
     "output_type": "display_data"
    }
   ],
   "source": [
    "import numpy as np\n",
    "import pandas as pd\n",
    "import matplotlib.pyplot as plt\n",
    "import seaborn as sns\n",
    "from string import ascii_letters\n",
    "import plotly.plotly as py\n",
    "import cufflinks as cf\n",
    "from ipywidgets import interact\n",
    "import plotly.graph_objs as go\n",
    "cf.go_offline()\n",
    "%matplotlib inline"
   ]
  },
  {
   "cell_type": "code",
   "execution_count": 2,
   "metadata": {
    "extensions": {
     "jupyter_dashboards": {
      "version": 1,
      "views": {
       "grid_default": {},
       "report_default": {
        "hidden": true
       }
      }
     }
    }
   },
   "outputs": [],
   "source": [
    "df = pd.read_csv('housing_prices.csv')"
   ]
  },
  {
   "cell_type": "markdown",
   "metadata": {
    "extensions": {
     "jupyter_dashboards": {
      "version": 1,
      "views": {
       "grid_default": {},
       "report_default": {
        "hidden": false
       }
      }
     }
    }
   },
   "source": [
    "#### As a routine before analyzing a dataset, print the first few rows of the dataset"
   ]
  },
  {
   "cell_type": "code",
   "execution_count": 3,
   "metadata": {
    "extensions": {
     "jupyter_dashboards": {
      "version": 1,
      "views": {
       "grid_default": {},
       "report_default": {
        "hidden": false
       }
      }
     }
    },
    "scrolled": false
   },
   "outputs": [
    {
     "data": {
      "text/html": [
       "<div>\n",
       "<style scoped>\n",
       "    .dataframe tbody tr th:only-of-type {\n",
       "        vertical-align: middle;\n",
       "    }\n",
       "\n",
       "    .dataframe tbody tr th {\n",
       "        vertical-align: top;\n",
       "    }\n",
       "\n",
       "    .dataframe thead th {\n",
       "        text-align: right;\n",
       "    }\n",
       "</style>\n",
       "<table border=\"1\" class=\"dataframe\">\n",
       "  <thead>\n",
       "    <tr style=\"text-align: right;\">\n",
       "      <th></th>\n",
       "      <th>Id</th>\n",
       "      <th>MSSubClass</th>\n",
       "      <th>MSZoning</th>\n",
       "      <th>LotFrontage</th>\n",
       "      <th>LotArea</th>\n",
       "      <th>Street</th>\n",
       "      <th>Alley</th>\n",
       "      <th>LotShape</th>\n",
       "      <th>LandContour</th>\n",
       "      <th>Utilities</th>\n",
       "      <th>...</th>\n",
       "      <th>PoolArea</th>\n",
       "      <th>PoolQC</th>\n",
       "      <th>Fence</th>\n",
       "      <th>MiscFeature</th>\n",
       "      <th>MiscVal</th>\n",
       "      <th>MoSold</th>\n",
       "      <th>YrSold</th>\n",
       "      <th>SaleType</th>\n",
       "      <th>SaleCondition</th>\n",
       "      <th>SalePrice</th>\n",
       "    </tr>\n",
       "  </thead>\n",
       "  <tbody>\n",
       "    <tr>\n",
       "      <th>0</th>\n",
       "      <td>1</td>\n",
       "      <td>60</td>\n",
       "      <td>RL</td>\n",
       "      <td>65.0</td>\n",
       "      <td>8450</td>\n",
       "      <td>Pave</td>\n",
       "      <td>NaN</td>\n",
       "      <td>Reg</td>\n",
       "      <td>Lvl</td>\n",
       "      <td>AllPub</td>\n",
       "      <td>...</td>\n",
       "      <td>0</td>\n",
       "      <td>NaN</td>\n",
       "      <td>NaN</td>\n",
       "      <td>NaN</td>\n",
       "      <td>0</td>\n",
       "      <td>2</td>\n",
       "      <td>2008</td>\n",
       "      <td>WD</td>\n",
       "      <td>Normal</td>\n",
       "      <td>208500</td>\n",
       "    </tr>\n",
       "    <tr>\n",
       "      <th>1</th>\n",
       "      <td>2</td>\n",
       "      <td>20</td>\n",
       "      <td>RL</td>\n",
       "      <td>80.0</td>\n",
       "      <td>9600</td>\n",
       "      <td>Pave</td>\n",
       "      <td>NaN</td>\n",
       "      <td>Reg</td>\n",
       "      <td>Lvl</td>\n",
       "      <td>AllPub</td>\n",
       "      <td>...</td>\n",
       "      <td>0</td>\n",
       "      <td>NaN</td>\n",
       "      <td>NaN</td>\n",
       "      <td>NaN</td>\n",
       "      <td>0</td>\n",
       "      <td>5</td>\n",
       "      <td>2007</td>\n",
       "      <td>WD</td>\n",
       "      <td>Normal</td>\n",
       "      <td>181500</td>\n",
       "    </tr>\n",
       "    <tr>\n",
       "      <th>2</th>\n",
       "      <td>3</td>\n",
       "      <td>60</td>\n",
       "      <td>RL</td>\n",
       "      <td>68.0</td>\n",
       "      <td>11250</td>\n",
       "      <td>Pave</td>\n",
       "      <td>NaN</td>\n",
       "      <td>IR1</td>\n",
       "      <td>Lvl</td>\n",
       "      <td>AllPub</td>\n",
       "      <td>...</td>\n",
       "      <td>0</td>\n",
       "      <td>NaN</td>\n",
       "      <td>NaN</td>\n",
       "      <td>NaN</td>\n",
       "      <td>0</td>\n",
       "      <td>9</td>\n",
       "      <td>2008</td>\n",
       "      <td>WD</td>\n",
       "      <td>Normal</td>\n",
       "      <td>223500</td>\n",
       "    </tr>\n",
       "    <tr>\n",
       "      <th>3</th>\n",
       "      <td>4</td>\n",
       "      <td>70</td>\n",
       "      <td>RL</td>\n",
       "      <td>60.0</td>\n",
       "      <td>9550</td>\n",
       "      <td>Pave</td>\n",
       "      <td>NaN</td>\n",
       "      <td>IR1</td>\n",
       "      <td>Lvl</td>\n",
       "      <td>AllPub</td>\n",
       "      <td>...</td>\n",
       "      <td>0</td>\n",
       "      <td>NaN</td>\n",
       "      <td>NaN</td>\n",
       "      <td>NaN</td>\n",
       "      <td>0</td>\n",
       "      <td>2</td>\n",
       "      <td>2006</td>\n",
       "      <td>WD</td>\n",
       "      <td>Abnorml</td>\n",
       "      <td>140000</td>\n",
       "    </tr>\n",
       "    <tr>\n",
       "      <th>4</th>\n",
       "      <td>5</td>\n",
       "      <td>60</td>\n",
       "      <td>RL</td>\n",
       "      <td>84.0</td>\n",
       "      <td>14260</td>\n",
       "      <td>Pave</td>\n",
       "      <td>NaN</td>\n",
       "      <td>IR1</td>\n",
       "      <td>Lvl</td>\n",
       "      <td>AllPub</td>\n",
       "      <td>...</td>\n",
       "      <td>0</td>\n",
       "      <td>NaN</td>\n",
       "      <td>NaN</td>\n",
       "      <td>NaN</td>\n",
       "      <td>0</td>\n",
       "      <td>12</td>\n",
       "      <td>2008</td>\n",
       "      <td>WD</td>\n",
       "      <td>Normal</td>\n",
       "      <td>250000</td>\n",
       "    </tr>\n",
       "  </tbody>\n",
       "</table>\n",
       "<p>5 rows × 81 columns</p>\n",
       "</div>"
      ],
      "text/plain": [
       "   Id  MSSubClass MSZoning  LotFrontage  LotArea Street Alley LotShape  \\\n",
       "0   1          60       RL         65.0     8450   Pave   NaN      Reg   \n",
       "1   2          20       RL         80.0     9600   Pave   NaN      Reg   \n",
       "2   3          60       RL         68.0    11250   Pave   NaN      IR1   \n",
       "3   4          70       RL         60.0     9550   Pave   NaN      IR1   \n",
       "4   5          60       RL         84.0    14260   Pave   NaN      IR1   \n",
       "\n",
       "  LandContour Utilities  ... PoolArea PoolQC Fence MiscFeature MiscVal MoSold  \\\n",
       "0         Lvl    AllPub  ...        0    NaN   NaN         NaN       0      2   \n",
       "1         Lvl    AllPub  ...        0    NaN   NaN         NaN       0      5   \n",
       "2         Lvl    AllPub  ...        0    NaN   NaN         NaN       0      9   \n",
       "3         Lvl    AllPub  ...        0    NaN   NaN         NaN       0      2   \n",
       "4         Lvl    AllPub  ...        0    NaN   NaN         NaN       0     12   \n",
       "\n",
       "  YrSold  SaleType  SaleCondition  SalePrice  \n",
       "0   2008        WD         Normal     208500  \n",
       "1   2007        WD         Normal     181500  \n",
       "2   2008        WD         Normal     223500  \n",
       "3   2006        WD        Abnorml     140000  \n",
       "4   2008        WD         Normal     250000  \n",
       "\n",
       "[5 rows x 81 columns]"
      ]
     },
     "execution_count": 3,
     "metadata": {},
     "output_type": "execute_result"
    }
   ],
   "source": [
    "df.head()"
   ]
  },
  {
   "cell_type": "markdown",
   "metadata": {
    "extensions": {
     "jupyter_dashboards": {
      "version": 1,
      "views": {
       "grid_default": {},
       "report_default": {
        "hidden": false
       }
      }
     }
    }
   },
   "source": [
    "You find the dataset has 81 columns which are a lot. \n",
    "\n",
    "#### Since the column `Id` is meaningless in our data visualization work, let's drop it"
   ]
  },
  {
   "cell_type": "code",
   "execution_count": 4,
   "metadata": {
    "extensions": {
     "jupyter_dashboards": {
      "version": 1,
      "views": {
       "grid_default": {},
       "report_default": {
        "hidden": true
       }
      }
     }
    }
   },
   "outputs": [],
   "source": [
    "# your code here\n",
    "df = df.drop('Id', axis=1)"
   ]
  },
  {
   "cell_type": "code",
   "execution_count": 5,
   "metadata": {
    "extensions": {
     "jupyter_dashboards": {
      "version": 1,
      "views": {
       "grid_default": {},
       "report_default": {
        "hidden": false
       }
      }
     }
    }
   },
   "outputs": [
    {
     "data": {
      "text/html": [
       "<div>\n",
       "<style scoped>\n",
       "    .dataframe tbody tr th:only-of-type {\n",
       "        vertical-align: middle;\n",
       "    }\n",
       "\n",
       "    .dataframe tbody tr th {\n",
       "        vertical-align: top;\n",
       "    }\n",
       "\n",
       "    .dataframe thead th {\n",
       "        text-align: right;\n",
       "    }\n",
       "</style>\n",
       "<table border=\"1\" class=\"dataframe\">\n",
       "  <thead>\n",
       "    <tr style=\"text-align: right;\">\n",
       "      <th></th>\n",
       "      <th>MSSubClass</th>\n",
       "      <th>MSZoning</th>\n",
       "      <th>LotFrontage</th>\n",
       "      <th>LotArea</th>\n",
       "      <th>Street</th>\n",
       "      <th>Alley</th>\n",
       "      <th>LotShape</th>\n",
       "      <th>LandContour</th>\n",
       "      <th>Utilities</th>\n",
       "      <th>LotConfig</th>\n",
       "      <th>...</th>\n",
       "      <th>PoolArea</th>\n",
       "      <th>PoolQC</th>\n",
       "      <th>Fence</th>\n",
       "      <th>MiscFeature</th>\n",
       "      <th>MiscVal</th>\n",
       "      <th>MoSold</th>\n",
       "      <th>YrSold</th>\n",
       "      <th>SaleType</th>\n",
       "      <th>SaleCondition</th>\n",
       "      <th>SalePrice</th>\n",
       "    </tr>\n",
       "  </thead>\n",
       "  <tbody>\n",
       "    <tr>\n",
       "      <th>0</th>\n",
       "      <td>60</td>\n",
       "      <td>RL</td>\n",
       "      <td>65.0</td>\n",
       "      <td>8450</td>\n",
       "      <td>Pave</td>\n",
       "      <td>NaN</td>\n",
       "      <td>Reg</td>\n",
       "      <td>Lvl</td>\n",
       "      <td>AllPub</td>\n",
       "      <td>Inside</td>\n",
       "      <td>...</td>\n",
       "      <td>0</td>\n",
       "      <td>NaN</td>\n",
       "      <td>NaN</td>\n",
       "      <td>NaN</td>\n",
       "      <td>0</td>\n",
       "      <td>2</td>\n",
       "      <td>2008</td>\n",
       "      <td>WD</td>\n",
       "      <td>Normal</td>\n",
       "      <td>208500</td>\n",
       "    </tr>\n",
       "    <tr>\n",
       "      <th>1</th>\n",
       "      <td>20</td>\n",
       "      <td>RL</td>\n",
       "      <td>80.0</td>\n",
       "      <td>9600</td>\n",
       "      <td>Pave</td>\n",
       "      <td>NaN</td>\n",
       "      <td>Reg</td>\n",
       "      <td>Lvl</td>\n",
       "      <td>AllPub</td>\n",
       "      <td>FR2</td>\n",
       "      <td>...</td>\n",
       "      <td>0</td>\n",
       "      <td>NaN</td>\n",
       "      <td>NaN</td>\n",
       "      <td>NaN</td>\n",
       "      <td>0</td>\n",
       "      <td>5</td>\n",
       "      <td>2007</td>\n",
       "      <td>WD</td>\n",
       "      <td>Normal</td>\n",
       "      <td>181500</td>\n",
       "    </tr>\n",
       "    <tr>\n",
       "      <th>2</th>\n",
       "      <td>60</td>\n",
       "      <td>RL</td>\n",
       "      <td>68.0</td>\n",
       "      <td>11250</td>\n",
       "      <td>Pave</td>\n",
       "      <td>NaN</td>\n",
       "      <td>IR1</td>\n",
       "      <td>Lvl</td>\n",
       "      <td>AllPub</td>\n",
       "      <td>Inside</td>\n",
       "      <td>...</td>\n",
       "      <td>0</td>\n",
       "      <td>NaN</td>\n",
       "      <td>NaN</td>\n",
       "      <td>NaN</td>\n",
       "      <td>0</td>\n",
       "      <td>9</td>\n",
       "      <td>2008</td>\n",
       "      <td>WD</td>\n",
       "      <td>Normal</td>\n",
       "      <td>223500</td>\n",
       "    </tr>\n",
       "    <tr>\n",
       "      <th>3</th>\n",
       "      <td>70</td>\n",
       "      <td>RL</td>\n",
       "      <td>60.0</td>\n",
       "      <td>9550</td>\n",
       "      <td>Pave</td>\n",
       "      <td>NaN</td>\n",
       "      <td>IR1</td>\n",
       "      <td>Lvl</td>\n",
       "      <td>AllPub</td>\n",
       "      <td>Corner</td>\n",
       "      <td>...</td>\n",
       "      <td>0</td>\n",
       "      <td>NaN</td>\n",
       "      <td>NaN</td>\n",
       "      <td>NaN</td>\n",
       "      <td>0</td>\n",
       "      <td>2</td>\n",
       "      <td>2006</td>\n",
       "      <td>WD</td>\n",
       "      <td>Abnorml</td>\n",
       "      <td>140000</td>\n",
       "    </tr>\n",
       "    <tr>\n",
       "      <th>4</th>\n",
       "      <td>60</td>\n",
       "      <td>RL</td>\n",
       "      <td>84.0</td>\n",
       "      <td>14260</td>\n",
       "      <td>Pave</td>\n",
       "      <td>NaN</td>\n",
       "      <td>IR1</td>\n",
       "      <td>Lvl</td>\n",
       "      <td>AllPub</td>\n",
       "      <td>FR2</td>\n",
       "      <td>...</td>\n",
       "      <td>0</td>\n",
       "      <td>NaN</td>\n",
       "      <td>NaN</td>\n",
       "      <td>NaN</td>\n",
       "      <td>0</td>\n",
       "      <td>12</td>\n",
       "      <td>2008</td>\n",
       "      <td>WD</td>\n",
       "      <td>Normal</td>\n",
       "      <td>250000</td>\n",
       "    </tr>\n",
       "  </tbody>\n",
       "</table>\n",
       "<p>5 rows × 80 columns</p>\n",
       "</div>"
      ],
      "text/plain": [
       "   MSSubClass MSZoning  LotFrontage  LotArea Street Alley LotShape  \\\n",
       "0          60       RL         65.0     8450   Pave   NaN      Reg   \n",
       "1          20       RL         80.0     9600   Pave   NaN      Reg   \n",
       "2          60       RL         68.0    11250   Pave   NaN      IR1   \n",
       "3          70       RL         60.0     9550   Pave   NaN      IR1   \n",
       "4          60       RL         84.0    14260   Pave   NaN      IR1   \n",
       "\n",
       "  LandContour Utilities LotConfig  ... PoolArea PoolQC Fence MiscFeature  \\\n",
       "0         Lvl    AllPub    Inside  ...        0    NaN   NaN         NaN   \n",
       "1         Lvl    AllPub       FR2  ...        0    NaN   NaN         NaN   \n",
       "2         Lvl    AllPub    Inside  ...        0    NaN   NaN         NaN   \n",
       "3         Lvl    AllPub    Corner  ...        0    NaN   NaN         NaN   \n",
       "4         Lvl    AllPub       FR2  ...        0    NaN   NaN         NaN   \n",
       "\n",
       "  MiscVal MoSold  YrSold  SaleType  SaleCondition  SalePrice  \n",
       "0       0      2    2008        WD         Normal     208500  \n",
       "1       0      5    2007        WD         Normal     181500  \n",
       "2       0      9    2008        WD         Normal     223500  \n",
       "3       0      2    2006        WD        Abnorml     140000  \n",
       "4       0     12    2008        WD         Normal     250000  \n",
       "\n",
       "[5 rows x 80 columns]"
      ]
     },
     "execution_count": 5,
     "metadata": {},
     "output_type": "execute_result"
    }
   ],
   "source": [
    "df.head()"
   ]
  },
  {
   "cell_type": "markdown",
   "metadata": {
    "extensions": {
     "jupyter_dashboards": {
      "version": 1,
      "views": {
       "grid_default": {},
       "report_default": {
        "hidden": false
       }
      }
     }
    }
   },
   "source": [
    "You care about missing values. If a column has too many missing values, it is not reliable to use it to predict sales price.\n",
    "\n",
    "#### In the cell below, calculate the percentage of missing values for each column. \n",
    "\n",
    "Make a table containing the column name and the percentage of missing values. Print the columns where more than 20% of values are missing. An example of your output looks like:\n",
    "\n",
    "![Missing Values](missing-values.png)\n",
    "\n",
    "[This reference](https://stackoverflow.com/questions/51070985/find-out-the-percentage-of-missing-values-in-each-column-in-the-given-dataset) can help you make the missing values table."
   ]
  },
  {
   "cell_type": "code",
   "execution_count": 6,
   "metadata": {
    "extensions": {
     "jupyter_dashboards": {
      "version": 1,
      "views": {
       "grid_default": {},
       "report_default": {
        "hidden": false
       }
      }
     }
    }
   },
   "outputs": [
    {
     "data": {
      "text/html": [
       "<div>\n",
       "<style scoped>\n",
       "    .dataframe tbody tr th:only-of-type {\n",
       "        vertical-align: middle;\n",
       "    }\n",
       "\n",
       "    .dataframe tbody tr th {\n",
       "        vertical-align: top;\n",
       "    }\n",
       "\n",
       "    .dataframe thead th {\n",
       "        text-align: right;\n",
       "    }\n",
       "</style>\n",
       "<table border=\"1\" class=\"dataframe\">\n",
       "  <thead>\n",
       "    <tr style=\"text-align: right;\">\n",
       "      <th></th>\n",
       "      <th>Column</th>\n",
       "      <th>Percent Miss Val</th>\n",
       "    </tr>\n",
       "  </thead>\n",
       "  <tbody>\n",
       "    <tr>\n",
       "      <th>0</th>\n",
       "      <td>Alley</td>\n",
       "      <td>93.767123</td>\n",
       "    </tr>\n",
       "    <tr>\n",
       "      <th>1</th>\n",
       "      <td>FireplaceQu</td>\n",
       "      <td>47.260274</td>\n",
       "    </tr>\n",
       "    <tr>\n",
       "      <th>2</th>\n",
       "      <td>PoolQC</td>\n",
       "      <td>99.520548</td>\n",
       "    </tr>\n",
       "    <tr>\n",
       "      <th>3</th>\n",
       "      <td>Fence</td>\n",
       "      <td>80.753425</td>\n",
       "    </tr>\n",
       "    <tr>\n",
       "      <th>4</th>\n",
       "      <td>MiscFeature</td>\n",
       "      <td>96.301370</td>\n",
       "    </tr>\n",
       "  </tbody>\n",
       "</table>\n",
       "</div>"
      ],
      "text/plain": [
       "        Column  Percent Miss Val\n",
       "0        Alley         93.767123\n",
       "1  FireplaceQu         47.260274\n",
       "2       PoolQC         99.520548\n",
       "3        Fence         80.753425\n",
       "4  MiscFeature         96.301370"
      ]
     },
     "execution_count": 6,
     "metadata": {},
     "output_type": "execute_result"
    }
   ],
   "source": [
    "# your code here\n",
    "percent_missing = df.isnull().sum() * 100 / len(df)\n",
    "percent_missing = percent_missing[percent_missing > 20].reset_index()\n",
    "percent_missing.columns = ['Column', 'Percent Miss Val']\n",
    "percent_missing"
   ]
  },
  {
   "cell_type": "markdown",
   "metadata": {
    "extensions": {
     "jupyter_dashboards": {
      "version": 1,
      "views": {
       "grid_default": {},
       "report_default": {
        "hidden": false
       }
      }
     }
    }
   },
   "source": [
    "#### Drop the columns you find that have more than 20% missing values.\n",
    "\n",
    "After dropping, check the shape of your dataframes. You should have 75 columns now."
   ]
  },
  {
   "cell_type": "code",
   "execution_count": 7,
   "metadata": {
    "extensions": {
     "jupyter_dashboards": {
      "version": 1,
      "views": {
       "grid_default": {},
       "report_default": {
        "hidden": true
       }
      }
     }
    }
   },
   "outputs": [],
   "source": [
    "# your code here\n",
    "df = df.drop(percent_missing['Column'], axis=1)"
   ]
  },
  {
   "cell_type": "code",
   "execution_count": 8,
   "metadata": {
    "extensions": {
     "jupyter_dashboards": {
      "version": 1,
      "views": {
       "grid_default": {},
       "report_default": {
        "hidden": false
       }
      }
     }
    }
   },
   "outputs": [
    {
     "data": {
      "text/plain": [
       "Index(['MSSubClass', 'MSZoning', 'LotFrontage', 'LotArea', 'Street',\n",
       "       'LotShape', 'LandContour', 'Utilities', 'LotConfig', 'LandSlope',\n",
       "       'Neighborhood', 'Condition1', 'Condition2', 'BldgType', 'HouseStyle',\n",
       "       'OverallQual', 'OverallCond', 'YearBuilt', 'YearRemodAdd', 'RoofStyle',\n",
       "       'RoofMatl', 'Exterior1st', 'Exterior2nd', 'MasVnrType', 'MasVnrArea',\n",
       "       'ExterQual', 'ExterCond', 'Foundation', 'BsmtQual', 'BsmtCond',\n",
       "       'BsmtExposure', 'BsmtFinType1', 'BsmtFinSF1', 'BsmtFinType2',\n",
       "       'BsmtFinSF2', 'BsmtUnfSF', 'TotalBsmtSF', 'Heating', 'HeatingQC',\n",
       "       'CentralAir', 'Electrical', '1stFlrSF', '2ndFlrSF', 'LowQualFinSF',\n",
       "       'GrLivArea', 'BsmtFullBath', 'BsmtHalfBath', 'FullBath', 'HalfBath',\n",
       "       'BedroomAbvGr', 'KitchenAbvGr', 'KitchenQual', 'TotRmsAbvGrd',\n",
       "       'Functional', 'Fireplaces', 'GarageType', 'GarageYrBlt', 'GarageFinish',\n",
       "       'GarageCars', 'GarageArea', 'GarageQual', 'GarageCond', 'PavedDrive',\n",
       "       'WoodDeckSF', 'OpenPorchSF', 'EnclosedPorch', '3SsnPorch',\n",
       "       'ScreenPorch', 'PoolArea', 'MiscVal', 'MoSold', 'YrSold', 'SaleType',\n",
       "       'SaleCondition', 'SalePrice'],\n",
       "      dtype='object')"
      ]
     },
     "execution_count": 8,
     "metadata": {},
     "output_type": "execute_result"
    }
   ],
   "source": [
    "df.columns"
   ]
  },
  {
   "cell_type": "markdown",
   "metadata": {
    "extensions": {
     "jupyter_dashboards": {
      "version": 1,
      "views": {
       "grid_default": {},
       "report_default": {
        "hidden": false
       }
      }
     }
    }
   },
   "source": [
    "Since you're asked to analyze sale prices, first let's see if the sale prices (column `SalePrice`) has a normal distribution. This is important because normally distributed data can be better represented with mathematical models.\n",
    "\n",
    "#### In the cell below, use the propriate graph to visualize the shape of distribution of the sale prices. Then explain what you find from the graph about data distribution."
   ]
  },
  {
   "cell_type": "code",
   "execution_count": 9,
   "metadata": {
    "extensions": {
     "jupyter_dashboards": {
      "version": 1,
      "views": {
       "grid_default": {},
       "report_default": {
        "hidden": false
       }
      }
     }
    },
    "scrolled": true
   },
   "outputs": [
    {
     "data": {
      "image/png": "[encoded data removed]",
      "text/plain": [
       "<Figure size 1080x360 with 1 Axes>"
      ]
     },
     "metadata": {
      "needs_background": "light"
     },
     "output_type": "display_data"
    }
   ],
   "source": [
    "# your code here\n",
    "plt.figure(figsize = (15,5))\n",
    "df['SalePrice'].plot.hist(alpha=0.5, bins=100, grid=True, legend=None)\n",
    "plt.title('Sale Price Shape distribution', fontsize=20)\n",
    "plt.show()"
   ]
  },
  {
   "cell_type": "code",
   "execution_count": 10,
   "metadata": {
    "extensions": {
     "jupyter_dashboards": {
      "version": 1,
      "views": {
       "grid_default": {},
       "report_default": {
        "hidden": true
       }
      }
     }
    }
   },
   "outputs": [],
   "source": [
    "# your comment here\n",
    "#It seems a \"Left Skeewed\" distribution"
   ]
  },
  {
   "cell_type": "markdown",
   "metadata": {
    "extensions": {
     "jupyter_dashboards": {
      "version": 1,
      "views": {
       "grid_default": {},
       "report_default": {
        "hidden": false
       }
      }
     }
    }
   },
   "source": [
    "## Bonus Challenge 1 - Adjust Data Distribution\n",
    "\n",
    "If you used the correct method in the previous step, you should have found the data distribution is skewed to the left. In order to improve your data visualization in the next steps, you can opt to adjust the `SalePrice` column by applying a mathematical function to the values. The goal is to produce a bell-shape normal distribution after applying the mathematical function to the sale price.\n",
    "\n",
    "*This technique is optional in data visualization but you'll find it useful in your future machine learning analysis.*\n",
    "\n",
    "#### In the cell below, adjust the `SalePrice` column so that the data are normally distributed.\n",
    "\n",
    "Try applying various mathematical functions such as square root, power, and log to the `SalePrice` column. Visualize the distribution of the adjusted data until you find a function that makes the data normally distributed. **Create a new column called `SalePriceAdjusted` to store the adjusted sale price.**\n",
    "\n",
    "[This reference](https://trainingdatascience.com/workshops/histograms-and-skewed-data/) shows you examples on how to adjust skewed data."
   ]
  },
  {
   "cell_type": "code",
   "execution_count": 11,
   "metadata": {
    "extensions": {
     "jupyter_dashboards": {
      "version": 1,
      "views": {
       "grid_default": {},
       "report_default": {
        "hidden": false
       }
      }
     }
    }
   },
   "outputs": [
    {
     "data": {
      "image/png": "[encoded data removed]",
      "text/plain": [
       "<Figure size 1152x432 with 1 Axes>"
      ]
     },
     "metadata": {
      "needs_background": "light"
     },
     "output_type": "display_data"
    }
   ],
   "source": [
    "# your code here\n",
    "plt.figure(figsize = (16,6))\n",
    "df['SalePriceAdjusted'] = df['SalePrice'].apply(np.log)\n",
    "df['SalePriceAdjusted'].plot.hist(alpha=0.5, bins=100, grid=True, legend=None)\n",
    "plt.title('Sale Price Adjusted Shape distribution', fontsize=20)\n",
    "plt.show()"
   ]
  },
  {
   "cell_type": "markdown",
   "metadata": {
    "extensions": {
     "jupyter_dashboards": {
      "version": 1,
      "views": {
       "grid_default": {},
       "report_default": {
        "hidden": false
       }
      }
     }
    }
   },
   "source": [
    "## Challenge 2 - Exploring Data with Common Sense\n",
    "\n",
    "Now that we have a general understanding of the dataset, we start exploring the data with common sense by means of data visualization. Yes, in data analysis and even machine learning you are often required to use common sense. You use your common sense to make a scientific guess (i.e. hypothesis) then use data analytics methods to test your hypothesis.\n",
    "\n",
    "This dataset is about housing sales. According to common sense, housing prices depend on the following factors:\n",
    "\n",
    "* **Size of the house** (`GrLivArea`, `LotArea`, and `GarageArea`).\n",
    "\n",
    "* **Number of rooms** (`BedroomAbvGr`, `KitchenAbvGr`, `FullBath`, `HalfBath`, `BsmtFullBath`, `BsmtHalfBath`).\n",
    "\n",
    "* **How long the house has been built or remodeled** (`YearBuilt` and `YearRemodAdd`).\n",
    "\n",
    "* **Neighborhood of the house** (`Neighborhood`).\n",
    "\n",
    "#### In this challenge, use the appropriate graph type to visualize the relationships between `SalePrice` (or `SalePriceAdjusted`) and the fields above. \n",
    "\n",
    "Note that:\n",
    "\n",
    "* Transform certain columns in order to visualize the data properly based on common sense. For example:\n",
    "    * Visualizing how the number of half bathrooms affected the sale price probably does not make sense. You can create a new column to calculate the total number of bathrooms/rooms then visualize with the calculated number.\n",
    "    * `YearBuilt` and `YearRemodAdd` are year numbers not the age of the house. You can create two new columns for how long the house has been built or remodeled then visualize with the calculated columns.\n",
    "* Make comments to explain your thinking process."
   ]
  },
  {
   "cell_type": "code",
   "execution_count": 12,
   "metadata": {
    "extensions": {
     "jupyter_dashboards": {
      "version": 1,
      "views": {
       "grid_default": {},
       "report_default": {
        "hidden": false
       }
      }
     }
    }
   },
   "outputs": [
    {
     "data": {
      "text/plain": [
       "Index(['MSSubClass', 'MSZoning', 'LotFrontage', 'LotArea', 'Street',\n",
       "       'LotShape', 'LandContour', 'Utilities', 'LotConfig', 'LandSlope',\n",
       "       'Neighborhood', 'Condition1', 'Condition2', 'BldgType', 'HouseStyle',\n",
       "       'OverallQual', 'OverallCond', 'YearBuilt', 'YearRemodAdd', 'RoofStyle',\n",
       "       'RoofMatl', 'Exterior1st', 'Exterior2nd', 'MasVnrType', 'MasVnrArea',\n",
       "       'ExterQual', 'ExterCond', 'Foundation', 'BsmtQual', 'BsmtCond',\n",
       "       'BsmtExposure', 'BsmtFinType1', 'BsmtFinSF1', 'BsmtFinType2',\n",
       "       'BsmtFinSF2', 'BsmtUnfSF', 'TotalBsmtSF', 'Heating', 'HeatingQC',\n",
       "       'CentralAir', 'Electrical', '1stFlrSF', '2ndFlrSF', 'LowQualFinSF',\n",
       "       'GrLivArea', 'BsmtFullBath', 'BsmtHalfBath', 'FullBath', 'HalfBath',\n",
       "       'BedroomAbvGr', 'KitchenAbvGr', 'KitchenQual', 'TotRmsAbvGrd',\n",
       "       'Functional', 'Fireplaces', 'GarageType', 'GarageYrBlt', 'GarageFinish',\n",
       "       'GarageCars', 'GarageArea', 'GarageQual', 'GarageCond', 'PavedDrive',\n",
       "       'WoodDeckSF', 'OpenPorchSF', 'EnclosedPorch', '3SsnPorch',\n",
       "       'ScreenPorch', 'PoolArea', 'MiscVal', 'MoSold', 'YrSold', 'SaleType',\n",
       "       'SaleCondition', 'SalePrice', 'SalePriceAdjusted'],\n",
       "      dtype='object')"
      ]
     },
     "execution_count": 12,
     "metadata": {},
     "output_type": "execute_result"
    }
   ],
   "source": [
    "df.columns"
   ]
  },
  {
   "cell_type": "markdown",
   "metadata": {
    "extensions": {
     "jupyter_dashboards": {
      "version": 1,
      "views": {
       "grid_default": {},
       "report_default": {
        "hidden": false
       }
      }
     }
    }
   },
   "source": [
    "### Baths"
   ]
  },
  {
   "cell_type": "markdown",
   "metadata": {
    "extensions": {
     "jupyter_dashboards": {
      "version": 1,
      "views": {
       "grid_default": {},
       "report_default": {
        "hidden": false
       }
      }
     }
    }
   },
   "source": [
    "Add all the Baths in a collumn TotalBaths "
   ]
  },
  {
   "cell_type": "code",
   "execution_count": 13,
   "metadata": {
    "extensions": {
     "jupyter_dashboards": {
      "version": 1,
      "views": {
       "grid_default": {},
       "report_default": {
        "hidden": true
       }
      }
     }
    }
   },
   "outputs": [],
   "source": [
    "df['TotalBaths'] = df['FullBath'] + df['HalfBath'] + df['BsmtFullBath'] + df['BsmtHalfBath']"
   ]
  },
  {
   "cell_type": "markdown",
   "metadata": {
    "extensions": {
     "jupyter_dashboards": {
      "version": 1,
      "views": {
       "grid_default": {},
       "report_default": {
        "hidden": false
       }
      }
     }
    }
   },
   "source": [
    "### Years"
   ]
  },
  {
   "cell_type": "markdown",
   "metadata": {
    "extensions": {
     "jupyter_dashboards": {
      "version": 1,
      "views": {
       "grid_default": {},
       "report_default": {
        "hidden": false
       }
      }
     }
    }
   },
   "source": [
    "Years from the build or remod"
   ]
  },
  {
   "cell_type": "code",
   "execution_count": 14,
   "metadata": {
    "extensions": {
     "jupyter_dashboards": {
      "version": 1,
      "views": {
       "grid_default": {},
       "report_default": {
        "hidden": true
       }
      }
     }
    }
   },
   "outputs": [],
   "source": [
    "df['FromBuilt'] = 2019 - df['YearBuilt']\n",
    "df['FromRemod'] = 2019 - df['YearRemodAdd']"
   ]
  },
  {
   "cell_type": "markdown",
   "metadata": {
    "extensions": {
     "jupyter_dashboards": {
      "version": 1,
      "views": {
       "grid_default": {},
       "report_default": {
        "hidden": false
       }
      }
     }
    }
   },
   "source": [
    "### Area"
   ]
  },
  {
   "cell_type": "markdown",
   "metadata": {
    "extensions": {
     "jupyter_dashboards": {
      "version": 1,
      "views": {
       "grid_default": {},
       "report_default": {
        "hidden": false
       }
      }
     }
    }
   },
   "source": [
    "Add all the area of the house, the garage area and the lot area (*0,25)"
   ]
  },
  {
   "cell_type": "code",
   "execution_count": 15,
   "metadata": {
    "extensions": {
     "jupyter_dashboards": {
      "version": 1,
      "views": {
       "grid_default": {},
       "report_default": {
        "hidden": true
       }
      }
     }
    }
   },
   "outputs": [],
   "source": [
    "df['TotalArea'] = df['GrLivArea'] + df['LotArea']/4 + df['GarageArea']"
   ]
  },
  {
   "cell_type": "markdown",
   "metadata": {
    "extensions": {
     "jupyter_dashboards": {
      "version": 1,
      "views": {
       "grid_default": {},
       "report_default": {
        "hidden": false
       }
      }
     }
    }
   },
   "source": [
    "### Total Rooms"
   ]
  },
  {
   "cell_type": "markdown",
   "metadata": {
    "extensions": {
     "jupyter_dashboards": {
      "version": 1,
      "views": {
       "grid_default": {},
       "report_default": {
        "hidden": false
       }
      }
     }
    }
   },
   "source": [
    "Total rooms adding bedroom, kitchen and total bathrooms"
   ]
  },
  {
   "cell_type": "code",
   "execution_count": 16,
   "metadata": {
    "extensions": {
     "jupyter_dashboards": {
      "version": 1,
      "views": {
       "grid_default": {},
       "report_default": {
        "hidden": true
       }
      }
     }
    }
   },
   "outputs": [],
   "source": [
    "df['TotalRooms'] = df['BedroomAbvGr'] + df['KitchenAbvGr'] + df['TotalBaths']"
   ]
  },
  {
   "cell_type": "markdown",
   "metadata": {
    "extensions": {
     "jupyter_dashboards": {
      "version": 1,
      "views": {
       "grid_default": {},
       "report_default": {
        "hidden": false
       }
      }
     }
    }
   },
   "source": [
    "### Total Square Feets"
   ]
  },
  {
   "cell_type": "markdown",
   "metadata": {
    "extensions": {
     "jupyter_dashboards": {
      "version": 1,
      "views": {
       "grid_default": {},
       "report_default": {
        "hidden": false
       }
      }
     }
    }
   },
   "source": [
    "Total Square feets adding 1st Floor, 2nd Floor and Basement"
   ]
  },
  {
   "cell_type": "code",
   "execution_count": 17,
   "metadata": {
    "extensions": {
     "jupyter_dashboards": {
      "version": 1,
      "views": {
       "grid_default": {},
       "report_default": {
        "hidden": true
       }
      }
     }
    }
   },
   "outputs": [],
   "source": [
    "df['TotalSF'] = df['1stFlrSF'] + df['2ndFlrSF'] + df['TotalBsmtSF']"
   ]
  },
  {
   "cell_type": "code",
   "execution_count": 18,
   "metadata": {
    "extensions": {
     "jupyter_dashboards": {
      "version": 1,
      "views": {
       "grid_default": {},
       "report_default": {
        "hidden": false
       }
      }
     }
    }
   },
   "outputs": [
    {
     "data": {
      "text/html": [
       "<div>\n",
       "<style scoped>\n",
       "    .dataframe tbody tr th:only-of-type {\n",
       "        vertical-align: middle;\n",
       "    }\n",
       "\n",
       "    .dataframe tbody tr th {\n",
       "        vertical-align: top;\n",
       "    }\n",
       "\n",
       "    .dataframe thead th {\n",
       "        text-align: right;\n",
       "    }\n",
       "</style>\n",
       "<table border=\"1\" class=\"dataframe\">\n",
       "  <thead>\n",
       "    <tr style=\"text-align: right;\">\n",
       "      <th></th>\n",
       "      <th>MSSubClass</th>\n",
       "      <th>MSZoning</th>\n",
       "      <th>LotFrontage</th>\n",
       "      <th>LotArea</th>\n",
       "      <th>Street</th>\n",
       "      <th>LotShape</th>\n",
       "      <th>LandContour</th>\n",
       "      <th>Utilities</th>\n",
       "      <th>LotConfig</th>\n",
       "      <th>LandSlope</th>\n",
       "      <th>...</th>\n",
       "      <th>SaleType</th>\n",
       "      <th>SaleCondition</th>\n",
       "      <th>SalePrice</th>\n",
       "      <th>SalePriceAdjusted</th>\n",
       "      <th>TotalBaths</th>\n",
       "      <th>FromBuilt</th>\n",
       "      <th>FromRemod</th>\n",
       "      <th>TotalArea</th>\n",
       "      <th>TotalRooms</th>\n",
       "      <th>TotalSF</th>\n",
       "    </tr>\n",
       "  </thead>\n",
       "  <tbody>\n",
       "    <tr>\n",
       "      <th>0</th>\n",
       "      <td>60</td>\n",
       "      <td>RL</td>\n",
       "      <td>65.0</td>\n",
       "      <td>8450</td>\n",
       "      <td>Pave</td>\n",
       "      <td>Reg</td>\n",
       "      <td>Lvl</td>\n",
       "      <td>AllPub</td>\n",
       "      <td>Inside</td>\n",
       "      <td>Gtl</td>\n",
       "      <td>...</td>\n",
       "      <td>WD</td>\n",
       "      <td>Normal</td>\n",
       "      <td>208500</td>\n",
       "      <td>12.247694</td>\n",
       "      <td>4</td>\n",
       "      <td>16</td>\n",
       "      <td>16</td>\n",
       "      <td>4370.5</td>\n",
       "      <td>8</td>\n",
       "      <td>2566</td>\n",
       "    </tr>\n",
       "    <tr>\n",
       "      <th>1</th>\n",
       "      <td>20</td>\n",
       "      <td>RL</td>\n",
       "      <td>80.0</td>\n",
       "      <td>9600</td>\n",
       "      <td>Pave</td>\n",
       "      <td>Reg</td>\n",
       "      <td>Lvl</td>\n",
       "      <td>AllPub</td>\n",
       "      <td>FR2</td>\n",
       "      <td>Gtl</td>\n",
       "      <td>...</td>\n",
       "      <td>WD</td>\n",
       "      <td>Normal</td>\n",
       "      <td>181500</td>\n",
       "      <td>12.109011</td>\n",
       "      <td>3</td>\n",
       "      <td>43</td>\n",
       "      <td>43</td>\n",
       "      <td>4122.0</td>\n",
       "      <td>7</td>\n",
       "      <td>2524</td>\n",
       "    </tr>\n",
       "    <tr>\n",
       "      <th>2</th>\n",
       "      <td>60</td>\n",
       "      <td>RL</td>\n",
       "      <td>68.0</td>\n",
       "      <td>11250</td>\n",
       "      <td>Pave</td>\n",
       "      <td>IR1</td>\n",
       "      <td>Lvl</td>\n",
       "      <td>AllPub</td>\n",
       "      <td>Inside</td>\n",
       "      <td>Gtl</td>\n",
       "      <td>...</td>\n",
       "      <td>WD</td>\n",
       "      <td>Normal</td>\n",
       "      <td>223500</td>\n",
       "      <td>12.317167</td>\n",
       "      <td>4</td>\n",
       "      <td>18</td>\n",
       "      <td>17</td>\n",
       "      <td>5206.5</td>\n",
       "      <td>8</td>\n",
       "      <td>2706</td>\n",
       "    </tr>\n",
       "    <tr>\n",
       "      <th>3</th>\n",
       "      <td>70</td>\n",
       "      <td>RL</td>\n",
       "      <td>60.0</td>\n",
       "      <td>9550</td>\n",
       "      <td>Pave</td>\n",
       "      <td>IR1</td>\n",
       "      <td>Lvl</td>\n",
       "      <td>AllPub</td>\n",
       "      <td>Corner</td>\n",
       "      <td>Gtl</td>\n",
       "      <td>...</td>\n",
       "      <td>WD</td>\n",
       "      <td>Abnorml</td>\n",
       "      <td>140000</td>\n",
       "      <td>11.849398</td>\n",
       "      <td>2</td>\n",
       "      <td>104</td>\n",
       "      <td>49</td>\n",
       "      <td>4746.5</td>\n",
       "      <td>6</td>\n",
       "      <td>2473</td>\n",
       "    </tr>\n",
       "    <tr>\n",
       "      <th>4</th>\n",
       "      <td>60</td>\n",
       "      <td>RL</td>\n",
       "      <td>84.0</td>\n",
       "      <td>14260</td>\n",
       "      <td>Pave</td>\n",
       "      <td>IR1</td>\n",
       "      <td>Lvl</td>\n",
       "      <td>AllPub</td>\n",
       "      <td>FR2</td>\n",
       "      <td>Gtl</td>\n",
       "      <td>...</td>\n",
       "      <td>WD</td>\n",
       "      <td>Normal</td>\n",
       "      <td>250000</td>\n",
       "      <td>12.429216</td>\n",
       "      <td>4</td>\n",
       "      <td>19</td>\n",
       "      <td>19</td>\n",
       "      <td>6599.0</td>\n",
       "      <td>9</td>\n",
       "      <td>3343</td>\n",
       "    </tr>\n",
       "  </tbody>\n",
       "</table>\n",
       "<p>5 rows × 82 columns</p>\n",
       "</div>"
      ],
      "text/plain": [
       "   MSSubClass MSZoning  LotFrontage  LotArea Street LotShape LandContour  \\\n",
       "0          60       RL         65.0     8450   Pave      Reg         Lvl   \n",
       "1          20       RL         80.0     9600   Pave      Reg         Lvl   \n",
       "2          60       RL         68.0    11250   Pave      IR1         Lvl   \n",
       "3          70       RL         60.0     9550   Pave      IR1         Lvl   \n",
       "4          60       RL         84.0    14260   Pave      IR1         Lvl   \n",
       "\n",
       "  Utilities LotConfig LandSlope  ... SaleType SaleCondition SalePrice  \\\n",
       "0    AllPub    Inside       Gtl  ...       WD        Normal    208500   \n",
       "1    AllPub       FR2       Gtl  ...       WD        Normal    181500   \n",
       "2    AllPub    Inside       Gtl  ...       WD        Normal    223500   \n",
       "3    AllPub    Corner       Gtl  ...       WD       Abnorml    140000   \n",
       "4    AllPub       FR2       Gtl  ...       WD        Normal    250000   \n",
       "\n",
       "  SalePriceAdjusted TotalBaths  FromBuilt  FromRemod  TotalArea  TotalRooms  \\\n",
       "0         12.247694          4         16         16     4370.5           8   \n",
       "1         12.109011          3         43         43     4122.0           7   \n",
       "2         12.317167          4         18         17     5206.5           8   \n",
       "3         11.849398          2        104         49     4746.5           6   \n",
       "4         12.429216          4         19         19     6599.0           9   \n",
       "\n",
       "  TotalSF  \n",
       "0    2566  \n",
       "1    2524  \n",
       "2    2706  \n",
       "3    2473  \n",
       "4    3343  \n",
       "\n",
       "[5 rows x 82 columns]"
      ]
     },
     "execution_count": 18,
     "metadata": {},
     "output_type": "execute_result"
    }
   ],
   "source": [
    "df.head()"
   ]
  },
  {
   "cell_type": "markdown",
   "metadata": {
    "extensions": {
     "jupyter_dashboards": {
      "version": 1,
      "views": {
       "grid_default": {},
       "report_default": {
        "hidden": false
       }
      }
     }
    }
   },
   "source": [
    "### Correlation of SalePriceAdjusted and the Rest of the values "
   ]
  },
  {
   "cell_type": "code",
   "execution_count": 19,
   "metadata": {
    "extensions": {
     "jupyter_dashboards": {
      "version": 1,
      "views": {
       "grid_default": {},
       "report_default": {
        "hidden": true
       }
      }
     }
    }
   },
   "outputs": [],
   "source": [
    "correlation = df.corr()['SalePriceAdjusted'][1:].sort_values(ascending=False).reset_index()"
   ]
  },
  {
   "cell_type": "code",
   "execution_count": 20,
   "metadata": {
    "extensions": {
     "jupyter_dashboards": {
      "version": 1,
      "views": {
       "grid_default": {},
       "report_default": {
        "hidden": true
       }
      }
     }
    }
   },
   "outputs": [],
   "source": [
    "correlation.columns = ['Vars', 'CorrPriceAdj']"
   ]
  },
  {
   "cell_type": "code",
   "execution_count": 21,
   "metadata": {
    "extensions": {
     "jupyter_dashboards": {
      "version": 1,
      "views": {
       "grid_default": {},
       "report_default": {
        "hidden": true
       }
      }
     }
    }
   },
   "outputs": [],
   "source": [
    "correlation = correlation.drop([0,1],axis=0)"
   ]
  },
  {
   "cell_type": "code",
   "execution_count": 22,
   "metadata": {
    "extensions": {
     "jupyter_dashboards": {
      "version": 1,
      "views": {
       "grid_default": {},
       "report_default": {
        "hidden": false
       }
      }
     }
    }
   },
   "outputs": [
    {
     "data": {
      "text/html": [
       "<div>\n",
       "<style scoped>\n",
       "    .dataframe tbody tr th:only-of-type {\n",
       "        vertical-align: middle;\n",
       "    }\n",
       "\n",
       "    .dataframe tbody tr th {\n",
       "        vertical-align: top;\n",
       "    }\n",
       "\n",
       "    .dataframe thead th {\n",
       "        text-align: right;\n",
       "    }\n",
       "</style>\n",
       "<table border=\"1\" class=\"dataframe\">\n",
       "  <thead>\n",
       "    <tr style=\"text-align: right;\">\n",
       "      <th></th>\n",
       "      <th>Vars</th>\n",
       "      <th>CorrPriceAdj</th>\n",
       "    </tr>\n",
       "  </thead>\n",
       "  <tbody>\n",
       "    <tr>\n",
       "      <th>2</th>\n",
       "      <td>OverallQual</td>\n",
       "      <td>0.817184</td>\n",
       "    </tr>\n",
       "    <tr>\n",
       "      <th>3</th>\n",
       "      <td>TotalSF</td>\n",
       "      <td>0.777296</td>\n",
       "    </tr>\n",
       "    <tr>\n",
       "      <th>4</th>\n",
       "      <td>GrLivArea</td>\n",
       "      <td>0.700927</td>\n",
       "    </tr>\n",
       "    <tr>\n",
       "      <th>5</th>\n",
       "      <td>GarageCars</td>\n",
       "      <td>0.680625</td>\n",
       "    </tr>\n",
       "    <tr>\n",
       "      <th>6</th>\n",
       "      <td>TotalBaths</td>\n",
       "      <td>0.657798</td>\n",
       "    </tr>\n",
       "  </tbody>\n",
       "</table>\n",
       "</div>"
      ],
      "text/plain": [
       "          Vars  CorrPriceAdj\n",
       "2  OverallQual      0.817184\n",
       "3      TotalSF      0.777296\n",
       "4    GrLivArea      0.700927\n",
       "5   GarageCars      0.680625\n",
       "6   TotalBaths      0.657798"
      ]
     },
     "execution_count": 22,
     "metadata": {},
     "output_type": "execute_result"
    }
   ],
   "source": [
    "correlation.head()"
   ]
  },
  {
   "cell_type": "code",
   "execution_count": 23,
   "metadata": {
    "extensions": {
     "jupyter_dashboards": {
      "version": 1,
      "views": {
       "grid_default": {},
       "report_default": {
        "hidden": false
       }
      }
     }
    }
   },
   "outputs": [
    {
     "data": {
      "image/png": "[encoded data removed]",
      "text/plain": [
       "<Figure size 1008x432 with 1 Axes>"
      ]
     },
     "metadata": {
      "needs_background": "light"
     },
     "output_type": "display_data"
    }
   ],
   "source": [
    "correlation.plot(kind='bar',figsize=(14,6))\n",
    "plt.title(\"Median Steps by Work or Weekend\", fontsize=18, fontweight=400, ha='center')\n",
    "plt.xlabel('Var', fontsize=14, ha='center')\n",
    "plt.ylabel('Correlation', fontsize=14, ha='center')\n",
    "plt.xticks(np.arange(44), correlation['Vars'], rotation=90)\n",
    "plt.hlines(0.5,-1,43, colors='r',linestyles='dashed', label='0.5')\n",
    "plt.hlines(-0.5,-1,43, colors='r',linestyles='dashed', label='-0.5')\n",
    "plt.hlines(0.3,-1,43, colors='orange',linestyles='dashed', label='0.3')\n",
    "plt.hlines(-0.3,-1,43, colors='orange',linestyles='dashed', label='-0.3')\n",
    "plt.hlines(0,-1,43, colors='k',linestyles='solid')\n",
    "plt.show()"
   ]
  },
  {
   "cell_type": "markdown",
   "metadata": {
    "extensions": {
     "jupyter_dashboards": {
      "version": 1,
      "views": {
       "grid_default": {},
       "report_default": {
        "hidden": false
       }
      }
     }
    }
   },
   "source": [
    "### Heatmap"
   ]
  },
  {
   "cell_type": "code",
   "execution_count": 24,
   "metadata": {
    "extensions": {
     "jupyter_dashboards": {
      "version": 1,
      "views": {
       "grid_default": {},
       "report_default": {
        "hidden": false
       }
      }
     }
    }
   },
   "outputs": [
    {
     "data": {
      "image/png": "[encoded data removed]",
      "text/plain": [
       "<Figure size 1008x504 with 2 Axes>"
      ]
     },
     "metadata": {
      "needs_background": "light"
     },
     "output_type": "display_data"
    }
   ],
   "source": [
    "#select only choosen columns\n",
    "\n",
    "df2 = df[['SalePriceAdjusted','TotalSF','TotalArea','GrLivArea','LotArea','GarageArea','GarageCars','TotalRooms','BedroomAbvGr','TotalBaths','FromBuilt','FromRemod','OverallQual']]\n",
    "plt.figure(figsize = (14,7))\n",
    "ls_cmap = sns.diverging_palette(220, 10, as_cmap=True)\n",
    "\n",
    "# Correlation matrix\n",
    "sns.heatmap(df2.corr(), cmap=ls_cmap, annot=True, linewidths=.5)\n",
    "\n",
    "plt.title('Correlation Matrix Adjusted Sale Price')\n",
    "\n",
    "plt.show()"
   ]
  },
  {
   "cell_type": "markdown",
   "metadata": {
    "extensions": {
     "jupyter_dashboards": {
      "version": 1,
      "views": {
       "grid_default": {},
       "report_default": {
        "hidden": false
       }
      }
     }
    }
   },
   "source": [
    "## Bonus Challenge 2 - Exploring Data with Correlation Heatmap\n",
    "\n",
    "Now you have explored data visualizations with certain fields based on common sense. In the dataset there are many other fields that you are not sure whether they are important factors for the sale price. What is the best way to explore those fields without investigating them individually?\n",
    "\n",
    "Making scatter matrix is not an option here because there are too many fields which makes it extremely time consuming to create scatter matrix. One option you have is to create a heatmap. Heatmaps are much less expensive to create than scatter matrixes. You can use heatmaps to visualize the pairwise correlations between each two variables.\n",
    "\n",
    "Here is a [reference](https://seaborn.pydata.org/examples/many_pairwise_correlations.html) you can use to learn how to creat the pairwise correlation heatmap. Your heatmap should look like below:\n",
    "\n",
    "![Corr Heatmap](heatmap.png)"
   ]
  },
  {
   "cell_type": "code",
   "execution_count": 25,
   "metadata": {
    "extensions": {
     "jupyter_dashboards": {
      "version": 1,
      "views": {
       "grid_default": {},
       "report_default": {
        "hidden": false
       }
      }
     }
    }
   },
   "outputs": [
    {
     "data": {
      "image/png": "[encoded data removed]",
      "text/plain": [
       "<Figure size 792x648 with 2 Axes>"
      ]
     },
     "metadata": {},
     "output_type": "display_data"
    }
   ],
   "source": [
    "# your code here\n",
    "sns.set(style=\"white\")\n",
    "\n",
    "# Compute the correlation matrix\n",
    "corr = df.corr()\n",
    "\n",
    "# Generate a mask for the upper triangle\n",
    "mask = np.zeros_like(corr, dtype=np.bool)\n",
    "mask[np.triu_indices_from(mask)] = True\n",
    "\n",
    "# Set up the matplotlib figure\n",
    "f, ax = plt.subplots(figsize=(11, 9))\n",
    "\n",
    "# Generate a custom diverging colormap\n",
    "cmap = sns.diverging_palette(220, 10, as_cmap=True)\n",
    "\n",
    "# Draw the heatmap with the mask and correct aspect ratio\n",
    "sns.heatmap(corr, mask=mask, cmap=cmap, vmax=.3, center=0,\n",
    "            square=True, linewidths=.5, cbar_kws={\"shrink\": .5})\n",
    "\n",
    "plt.show()"
   ]
  },
  {
   "cell_type": "markdown",
   "metadata": {
    "extensions": {
     "jupyter_dashboards": {
      "version": 1,
      "views": {
       "grid_default": {},
       "report_default": {
        "hidden": false
       }
      }
     }
    }
   },
   "source": [
    "In your heatmap, you can easily identify the highly correlated (either positively or negatively) variables by looking for the grids with darker colors. \n",
    "\n",
    "#### In the cell below, summarize what variables are highly correlated to the sale price?"
   ]
  },
  {
   "cell_type": "code",
   "execution_count": 26,
   "metadata": {
    "extensions": {
     "jupyter_dashboards": {
      "version": 1,
      "views": {
       "grid_default": {},
       "report_default": {
        "hidden": false
       }
      }
     }
    }
   },
   "outputs": [
    {
     "data": {
      "text/html": [
       "<div>\n",
       "<style scoped>\n",
       "    .dataframe tbody tr th:only-of-type {\n",
       "        vertical-align: middle;\n",
       "    }\n",
       "\n",
       "    .dataframe tbody tr th {\n",
       "        vertical-align: top;\n",
       "    }\n",
       "\n",
       "    .dataframe thead th {\n",
       "        text-align: right;\n",
       "    }\n",
       "</style>\n",
       "<table border=\"1\" class=\"dataframe\">\n",
       "  <thead>\n",
       "    <tr style=\"text-align: right;\">\n",
       "      <th></th>\n",
       "      <th>2</th>\n",
       "      <th>3</th>\n",
       "      <th>4</th>\n",
       "      <th>5</th>\n",
       "      <th>6</th>\n",
       "      <th>7</th>\n",
       "      <th>8</th>\n",
       "      <th>9</th>\n",
       "      <th>10</th>\n",
       "      <th>11</th>\n",
       "      <th>12</th>\n",
       "      <th>13</th>\n",
       "      <th>14</th>\n",
       "      <th>15</th>\n",
       "      <th>41</th>\n",
       "      <th>42</th>\n",
       "    </tr>\n",
       "  </thead>\n",
       "  <tbody>\n",
       "    <tr>\n",
       "      <th>Vars</th>\n",
       "      <td>OverallQual</td>\n",
       "      <td>TotalSF</td>\n",
       "      <td>GrLivArea</td>\n",
       "      <td>GarageCars</td>\n",
       "      <td>TotalBaths</td>\n",
       "      <td>GarageArea</td>\n",
       "      <td>TotalBsmtSF</td>\n",
       "      <td>1stFlrSF</td>\n",
       "      <td>FullBath</td>\n",
       "      <td>YearBuilt</td>\n",
       "      <td>YearRemodAdd</td>\n",
       "      <td>GarageYrBlt</td>\n",
       "      <td>TotRmsAbvGrd</td>\n",
       "      <td>TotalRooms</td>\n",
       "      <td>FromRemod</td>\n",
       "      <td>FromBuilt</td>\n",
       "    </tr>\n",
       "    <tr>\n",
       "      <th>CorrPriceAdj</th>\n",
       "      <td>0.817184</td>\n",
       "      <td>0.777296</td>\n",
       "      <td>0.700927</td>\n",
       "      <td>0.680625</td>\n",
       "      <td>0.657798</td>\n",
       "      <td>0.650888</td>\n",
       "      <td>0.612134</td>\n",
       "      <td>0.596981</td>\n",
       "      <td>0.594771</td>\n",
       "      <td>0.58657</td>\n",
       "      <td>0.565608</td>\n",
       "      <td>0.541073</td>\n",
       "      <td>0.534422</td>\n",
       "      <td>0.52112</td>\n",
       "      <td>-0.565608</td>\n",
       "      <td>-0.58657</td>\n",
       "    </tr>\n",
       "  </tbody>\n",
       "</table>\n",
       "</div>"
      ],
      "text/plain": [
       "                       2         3          4           5           6   \\\n",
       "Vars          OverallQual   TotalSF  GrLivArea  GarageCars  TotalBaths   \n",
       "CorrPriceAdj     0.817184  0.777296   0.700927    0.680625    0.657798   \n",
       "\n",
       "                      7            8         9         10         11  \\\n",
       "Vars          GarageArea  TotalBsmtSF  1stFlrSF  FullBath  YearBuilt   \n",
       "CorrPriceAdj    0.650888     0.612134  0.596981  0.594771    0.58657   \n",
       "\n",
       "                        12           13            14          15         41  \\\n",
       "Vars          YearRemodAdd  GarageYrBlt  TotRmsAbvGrd  TotalRooms  FromRemod   \n",
       "CorrPriceAdj      0.565608     0.541073      0.534422     0.52112  -0.565608   \n",
       "\n",
       "                     42  \n",
       "Vars          FromBuilt  \n",
       "CorrPriceAdj   -0.58657  "
      ]
     },
     "execution_count": 26,
     "metadata": {},
     "output_type": "execute_result"
    }
   ],
   "source": [
    "correlation[(correlation['CorrPriceAdj']>0.5) | (correlation['CorrPriceAdj']<-0.5)].T"
   ]
  },
  {
   "cell_type": "markdown",
   "metadata": {
    "extensions": {
     "jupyter_dashboards": {
      "version": 1,
      "views": {
       "grid_default": {},
       "report_default": {
        "hidden": false
       }
      }
     }
    }
   },
   "source": [
    "The variables that are highly correlated to the sale price are:<br>\n",
    "OverallQual<br>\n",
    "TotalSF<br>\n",
    "GrLivArea<br>\n",
    "GarageCars<br>\n",
    "TotalBaths<br>\n",
    "GarageArea<br>\n",
    "TotalBsmtSF<br>\n",
    "1stFlrSF<br>\n",
    "FullBath<br>\n",
    "YearBuilt<br>\t"
   ]
  },
  {
   "cell_type": "markdown",
   "metadata": {
    "extensions": {
     "jupyter_dashboards": {
      "version": 1,
      "views": {
       "grid_default": {},
       "report_default": {
        "hidden": false
       }
      }
     }
    }
   },
   "source": [
    "## Challenge 3 - Present Your Stories\n",
    "\n",
    "Now based on your findings from the explorations, summarize and present your stories.\n",
    "\n",
    "#### Present the top 5 factors that affect the sale price.\n",
    "\n",
    "Use the following format to present each factor:\n",
    "\n",
    "1. A title line about the factor.\n",
    "\n",
    "1. No more than 3 sentences to describe the relationship between the factor and the sale price.\n",
    "\n",
    "1. Support your point with the appropriate graph."
   ]
  },
  {
   "cell_type": "code",
   "execution_count": 27,
   "metadata": {
    "extensions": {
     "jupyter_dashboards": {
      "version": 1,
      "views": {
       "grid_default": {},
       "report_default": {
        "hidden": true
       }
      }
     }
    }
   },
   "outputs": [],
   "source": [
    "cf.getThemes()\n",
    "['pearl', 'white', 'ggplot', 'solar', 'space']\n",
    "cf.set_config_file(theme='white')"
   ]
  },
  {
   "cell_type": "markdown",
   "metadata": {
    "extensions": {
     "jupyter_dashboards": {
      "version": 1,
      "views": {
       "grid_default": {},
       "report_default": {
        "hidden": false
       }
      }
     }
    }
   },
   "source": [
    "## THE TOP 5 FACTORS THAT AFECT THE PRICE OF A HOUSE"
   ]
  },
  {
   "cell_type": "markdown",
   "metadata": {},
   "source": [
    "The 5 factors that afects more the sale price of a house are (in inverse order of correlation) the followin"
   ]
  },
  {
   "cell_type": "markdown",
   "metadata": {
    "extensions": {
     "jupyter_dashboards": {
      "version": 1,
      "views": {
       "grid_default": {},
       "report_default": {
        "hidden": false
       }
      }
     }
    }
   },
   "source": [
    "### Factor 5: The Age of the House and the Renovation Time"
   ]
  },
  {
   "cell_type": "markdown",
   "metadata": {},
   "source": [
    "**The age of renovation** (if the house has not been renovated, the construction year) are correlated with the price of the house.<br>\n",
    "That means, that the newest is the house renovation, the hoghest is the price.<br>\n",
    "But a very old house, prior 1900, can be spensier than a 1950's one.<br>"
   ]
  },
  {
   "cell_type": "code",
   "execution_count": 28,
   "metadata": {
    "extensions": {
     "jupyter_dashboards": {
      "version": 1,
      "views": {
       "grid_default": {},
       "report_default": {
        "hidden": true
       }
      }
     }
    }
   },
   "outputs": [],
   "source": [
    "reno = df.groupby('YearRemodAdd')['SalePrice'].mean().reset_index()\n",
    "reno = reno.sort_values(by='YearRemodAdd',ascending=False)\n",
    "age = df.groupby('YearBuilt')['SalePrice'].mean().reset_index()\n",
    "age = age.sort_values(by='YearBuilt',ascending=False)"
   ]
  },
  {
   "cell_type": "code",
   "execution_count": 29,
   "metadata": {},
   "outputs": [
    {
     "data": {
      "application/vnd.plotly.v1+json": {
       "config": {
        "linkText": "Export to plot.ly",
        "plotlyServerURL": "https://plot.ly",
        "showLink": true
       },
       "data": [
        {
         "marker": {
          "color": "rgba(165, 42, 42, 0.6)",
          "line": {
           "color": "rgba(165, 42, 42, 1.0)",
           "width": 1
          }
         },
         "name": "SalePrice",
         "orientation": "v",
         "text": "",
         "type": "bar",
         "uid": "36a02763-397b-45ee-9823-18c023f8c64c",
         "x": [
          2010,
          2009,
          2008,
          2007,
          2006,
          2005,
          2004,
          2003,
          2002,
          2001,
          2000,
          1999,
          1998,
          1997,
          1996,
          1995,
          1994,
          1993,
          1992,
          1991,
          1990,
          1989,
          1988,
          1987,
          1986,
          1985,
          1984,
          1983,
          1982,
          1981,
          1980,
          1979,
          1978,
          1977,
          1976,
          1975,
          1974,
          1973,
          1972,
          1971,
          1970,
          1969,
          1968,
          1967,
          1966,
          1965,
          1964,
          1963,
          1962,
          1961,
          1960,
          1959,
          1958,
          1957,
          1956,
          1955,
          1954,
          1953,
          1952,
          1951,
          1950,
          1949,
          1948,
          1947,
          1946,
          1945,
          1942,
          1941,
          1940,
          1939,
          1938,
          1937,
          1936,
          1935,
          1934,
          1932,
          1931,
          1930,
          1929,
          1928,
          1927,
          1926,
          1925,
          1924,
          1923,
          1922,
          1921,
          1920,
          1919,
          1918,
          1917,
          1916,
          1915,
          1914,
          1913,
          1912,
          1911,
          1910,
          1908,
          1906,
          1905,
          1904,
          1900,
          1898,
          1893,
          1892,
          1890,
          1885,
          1882,
          1880,
          1875,
          1872
         ],
         "y": [
          394432,
          269220,
          348849.1304347826,
          255362.73469387754,
          251775.44776119402,
          229680.953125,
          210347.72222222222,
          227408.57777777777,
          226869.5652173913,
          242630,
          210766.66666666666,
          210614.72,
          220450,
          214925,
          259162.66666666666,
          262194.44444444444,
          247900,
          218058.82352941178,
          218384.61538461538,
          186140,
          220881.66666666666,
          279500,
          204636.36363636365,
          198000,
          212000,
          191400,
          164111.11111111112,
          181400,
          132400,
          249880,
          164800,
          156396.88888888888,
          160962.5,
          166860.9375,
          163831.9696969697,
          159268.75,
          183050,
          139400,
          140569.5652173913,
          131820.45454545456,
          134647.91666666666,
          160725.64285714287,
          166075,
          142337.5,
          159559.44444444444,
          153115.95833333334,
          161893.33333333334,
          143403.125,
          145742.1052631579,
          139846.42857142858,
          161550,
          154124.3076923077,
          143179.16666666666,
          149959.1,
          135810.7142857143,
          134517.1875,
          139650,
          146333.33333333334,
          110398.6,
          136600,
          128036.25,
          111517.58333333333,
          137764.2857142857,
          117200,
          122400,
          133500,
          162000,
          120900,
          131994.44444444444,
          150825,
          109137.5,
          131974.2,
          137888.88888888888,
          161083.33333333334,
          220766.66666666666,
          233358.5,
          126650,
          103588.88888888889,
          153000,
          135557.14285714287,
          82666.66666666667,
          124144.44444444444,
          129190.625,
          105985.71428571429,
          159428.57142857142,
          109237.5,
          140813.33333333334,
          112903.33333333333,
          154833.33333333334,
          172421.42857142858,
          129500,
          139800,
          134387.5,
          126055.28571428571,
          90350,
          119466.66666666667,
          130000,
          111959.05882352941,
          183500,
          135000,
          163000,
          157500,
          112492.6,
          106000,
          325000,
          291250,
          142200,
          111250,
          168000,
          200619.75,
          94000,
          122000
         ]
        }
       ],
       "layout": {
        "legend": {
         "bgcolor": "#FFFFFF",
         "font": {
          "color": "#4D5663"
         }
        },
        "paper_bgcolor": "#FFFFFF",
        "plot_bgcolor": "#FFFFFF",
        "title": {
         "font": {
          "color": "#4D5663"
         },
         "text": "Average Price per Year of Construction"
        },
        "xaxis": {
         "gridcolor": "#E1E5ED",
         "showgrid": true,
         "tickfont": {
          "color": "#4D5663"
         },
         "title": {
          "font": {
           "color": "#4D5663"
          },
          "text": "Construction Year"
         },
         "zerolinecolor": "#E1E5ED"
        },
        "yaxis": {
         "gridcolor": "#E1E5ED",
         "showgrid": true,
         "tickfont": {
          "color": "#4D5663"
         },
         "title": {
          "font": {
           "color": "#4D5663"
          },
          "text": "Average Price"
         },
         "zerolinecolor": "#E1E5ED"
        }
       }
      },
      "text/html": [
       "<div>\n",
       "        \n",
       "        \n",
       "            <div id=\"43a6b27c-e6c4-4ede-a17c-649cc15d51bb\" class=\"plotly-graph-div\" style=\"height:525px; width:100%;\"></div>\n",
       "            <script type=\"text/javascript\">\n",
       "                require([\"plotly\"], function(Plotly) {\n",
       "                    window.PLOTLYENV=window.PLOTLYENV || {};\n",
       "                    window.PLOTLYENV.BASE_URL='https://plot.ly';\n",
       "                    \n",
       "                if (document.getElementById(\"43a6b27c-e6c4-4ede-a17c-649cc15d51bb\")) {\n",
       "                    Plotly.newPlot(\n",
       "                        '43a6b27c-e6c4-4ede-a17c-649cc15d51bb',\n",
       "                        [{\"marker\": {\"color\": \"rgba(165, 42, 42, 0.6)\", \"line\": {\"color\": \"rgba(165, 42, 42, 1.0)\", \"width\": 1}}, \"name\": \"SalePrice\", \"orientation\": \"v\", \"text\": \"\", \"type\": \"bar\", \"uid\": \"36a02763-397b-45ee-9823-18c023f8c64c\", \"x\": [2010, 2009, 2008, 2007, 2006, 2005, 2004, 2003, 2002, 2001, 2000, 1999, 1998, 1997, 1996, 1995, 1994, 1993, 1992, 1991, 1990, 1989, 1988, 1987, 1986, 1985, 1984, 1983, 1982, 1981, 1980, 1979, 1978, 1977, 1976, 1975, 1974, 1973, 1972, 1971, 1970, 1969, 1968, 1967, 1966, 1965, 1964, 1963, 1962, 1961, 1960, 1959, 1958, 1957, 1956, 1955, 1954, 1953, 1952, 1951, 1950, 1949, 1948, 1947, 1946, 1945, 1942, 1941, 1940, 1939, 1938, 1937, 1936, 1935, 1934, 1932, 1931, 1930, 1929, 1928, 1927, 1926, 1925, 1924, 1923, 1922, 1921, 1920, 1919, 1918, 1917, 1916, 1915, 1914, 1913, 1912, 1911, 1910, 1908, 1906, 1905, 1904, 1900, 1898, 1893, 1892, 1890, 1885, 1882, 1880, 1875, 1872], \"y\": [394432.0, 269220.0, 348849.1304347826, 255362.73469387754, 251775.44776119402, 229680.953125, 210347.72222222222, 227408.57777777777, 226869.5652173913, 242630.0, 210766.66666666666, 210614.72, 220450.0, 214925.0, 259162.66666666666, 262194.44444444444, 247900.0, 218058.82352941178, 218384.61538461538, 186140.0, 220881.66666666666, 279500.0, 204636.36363636365, 198000.0, 212000.0, 191400.0, 164111.11111111112, 181400.0, 132400.0, 249880.0, 164800.0, 156396.88888888888, 160962.5, 166860.9375, 163831.9696969697, 159268.75, 183050.0, 139400.0, 140569.5652173913, 131820.45454545456, 134647.91666666666, 160725.64285714287, 166075.0, 142337.5, 159559.44444444444, 153115.95833333334, 161893.33333333334, 143403.125, 145742.1052631579, 139846.42857142858, 161550.0, 154124.3076923077, 143179.16666666666, 149959.1, 135810.7142857143, 134517.1875, 139650.0, 146333.33333333334, 110398.6, 136600.0, 128036.25, 111517.58333333333, 137764.2857142857, 117200.0, 122400.0, 133500.0, 162000.0, 120900.0, 131994.44444444444, 150825.0, 109137.5, 131974.2, 137888.88888888888, 161083.33333333334, 220766.66666666666, 233358.5, 126650.0, 103588.88888888889, 153000.0, 135557.14285714287, 82666.66666666667, 124144.44444444444, 129190.625, 105985.71428571429, 159428.57142857142, 109237.5, 140813.33333333334, 112903.33333333333, 154833.33333333334, 172421.42857142858, 129500.0, 139800.0, 134387.5, 126055.28571428571, 90350.0, 119466.66666666667, 130000.0, 111959.05882352941, 183500.0, 135000.0, 163000.0, 157500.0, 112492.6, 106000.0, 325000.0, 291250.0, 142200.0, 111250.0, 168000.0, 200619.75, 94000.0, 122000.0]}],\n",
       "                        {\"legend\": {\"bgcolor\": \"#FFFFFF\", \"font\": {\"color\": \"#4D5663\"}}, \"paper_bgcolor\": \"#FFFFFF\", \"plot_bgcolor\": \"#FFFFFF\", \"title\": {\"font\": {\"color\": \"#4D5663\"}, \"text\": \"Average Price per Year of Construction\"}, \"xaxis\": {\"gridcolor\": \"#E1E5ED\", \"showgrid\": true, \"tickfont\": {\"color\": \"#4D5663\"}, \"title\": {\"font\": {\"color\": \"#4D5663\"}, \"text\": \"Construction Year\"}, \"zerolinecolor\": \"#E1E5ED\"}, \"yaxis\": {\"gridcolor\": \"#E1E5ED\", \"showgrid\": true, \"tickfont\": {\"color\": \"#4D5663\"}, \"title\": {\"font\": {\"color\": \"#4D5663\"}, \"text\": \"Average Price\"}, \"zerolinecolor\": \"#E1E5ED\"}},\n",
       "                        {\"showLink\": true, \"linkText\": \"Export to plot.ly\", \"plotlyServerURL\": \"https://plot.ly\", \"responsive\": true}\n",
       "                    ).then(function(){\n",
       "                            \n",
       "var gd = document.getElementById('43a6b27c-e6c4-4ede-a17c-649cc15d51bb');\n",
       "var x = new MutationObserver(function (mutations, observer) {{\n",
       "        var display = window.getComputedStyle(gd).display;\n",
       "        if (!display || display === 'none') {{\n",
       "            console.log([gd, 'removed!']);\n",
       "            Plotly.purge(gd);\n",
       "            observer.disconnect();\n",
       "        }}\n",
       "}});\n",
       "\n",
       "// Listen for the removal of the full notebook cells\n",
       "var notebookContainer = gd.closest('#notebook-container');\n",
       "if (notebookContainer) {{\n",
       "    x.observe(notebookContainer, {childList: true});\n",
       "}}\n",
       "\n",
       "// Listen for the clearing of the current output cell\n",
       "var outputEl = gd.closest('.output');\n",
       "if (outputEl) {{\n",
       "    x.observe(outputEl, {childList: true});\n",
       "}}\n",
       "\n",
       "                        })\n",
       "                };\n",
       "                });\n",
       "            </script>\n",
       "        </div>"
      ]
     },
     "metadata": {},
     "output_type": "display_data"
    },
    {
     "data": {
      "application/vnd.plotly.v1+json": {
       "config": {
        "linkText": "Export to plot.ly",
        "plotlyServerURL": "https://plot.ly",
        "showLink": true
       },
       "data": [
        {
         "marker": {
          "color": "rgba(165, 42, 42, 0.6)",
          "line": {
           "color": "rgba(165, 42, 42, 1.0)",
           "width": 1
          }
         },
         "name": "SalePrice",
         "orientation": "v",
         "text": "",
         "type": "bar",
         "uid": "f5df1a7a-b4ff-42c1-a7bd-03080cedee79",
         "x": [
          2010,
          2009,
          2008,
          2007,
          2006,
          2005,
          2004,
          2003,
          2002,
          2001,
          2000,
          1999,
          1998,
          1997,
          1996,
          1995,
          1994,
          1993,
          1992,
          1991,
          1990,
          1989,
          1988,
          1987,
          1986,
          1985,
          1984,
          1983,
          1982,
          1981,
          1980,
          1979,
          1978,
          1977,
          1976,
          1975,
          1974,
          1973,
          1972,
          1971,
          1970,
          1969,
          1968,
          1967,
          1966,
          1965,
          1964,
          1963,
          1962,
          1961,
          1960,
          1959,
          1958,
          1957,
          1956,
          1955,
          1954,
          1953,
          1952,
          1951,
          1950
         ],
         "y": [
          336963.5,
          284085.39130434784,
          269709.1,
          224807.25,
          229471.13402061857,
          210542.9315068493,
          195123.2258064516,
          194896.86274509804,
          215085.41666666666,
          190666.66666666666,
          186388.27272727274,
          203667.26666666666,
          206865.27777777778,
          214251.6,
          212588.19444444444,
          206832.25806451612,
          217231.81818181818,
          221994.94736842104,
          171611.76470588235,
          184714.2857142857,
          200042,
          198318.18181818182,
          190533.33333333334,
          209790,
          189400,
          167611.11111111112,
          184928.57142857142,
          136880,
          121271.42857142857,
          184425,
          154812.5,
          150357.2,
          158362.5,
          158702,
          159868.5,
          174652.4,
          159357.14285714287,
          139081.81818181818,
          127330,
          120230.55555555556,
          139367.3076923077,
          157297.07142857142,
          153095.88235294117,
          131458.33333333334,
          149914.66666666666,
          143951.73684210525,
          159218.18181818182,
          139765.38461538462,
          145471.42857142858,
          131881.25,
          145212.5,
          136054.55555555556,
          128386.66666666667,
          132656.44444444444,
          124235,
          124511.11111111111,
          121142.85714285714,
          147640,
          110398.6,
          129975,
          117463.05617977527
         ]
        }
       ],
       "layout": {
        "legend": {
         "bgcolor": "#FFFFFF",
         "font": {
          "color": "#4D5663"
         }
        },
        "paper_bgcolor": "#FFFFFF",
        "plot_bgcolor": "#FFFFFF",
        "title": {
         "font": {
          "color": "#4D5663"
         },
         "text": "Average Price per Year of Renovation"
        },
        "xaxis": {
         "gridcolor": "#E1E5ED",
         "showgrid": true,
         "tickfont": {
          "color": "#4D5663"
         },
         "title": {
          "font": {
           "color": "#4D5663"
          },
          "text": "Renovation Year"
         },
         "zerolinecolor": "#E1E5ED"
        },
        "yaxis": {
         "gridcolor": "#E1E5ED",
         "showgrid": true,
         "tickfont": {
          "color": "#4D5663"
         },
         "title": {
          "font": {
           "color": "#4D5663"
          },
          "text": "Average Price"
         },
         "zerolinecolor": "#E1E5ED"
        }
       }
      },
      "text/html": [
       "<div>\n",
       "        \n",
       "        \n",
       "            <div id=\"a53580ec-cd92-406e-9381-9f3df1dfb71c\" class=\"plotly-graph-div\" style=\"height:525px; width:100%;\"></div>\n",
       "            <script type=\"text/javascript\">\n",
       "                require([\"plotly\"], function(Plotly) {\n",
       "                    window.PLOTLYENV=window.PLOTLYENV || {};\n",
       "                    window.PLOTLYENV.BASE_URL='https://plot.ly';\n",
       "                    \n",
       "                if (document.getElementById(\"a53580ec-cd92-406e-9381-9f3df1dfb71c\")) {\n",
       "                    Plotly.newPlot(\n",
       "                        'a53580ec-cd92-406e-9381-9f3df1dfb71c',\n",
       "                        [{\"marker\": {\"color\": \"rgba(165, 42, 42, 0.6)\", \"line\": {\"color\": \"rgba(165, 42, 42, 1.0)\", \"width\": 1}}, \"name\": \"SalePrice\", \"orientation\": \"v\", \"text\": \"\", \"type\": \"bar\", \"uid\": \"f5df1a7a-b4ff-42c1-a7bd-03080cedee79\", \"x\": [2010, 2009, 2008, 2007, 2006, 2005, 2004, 2003, 2002, 2001, 2000, 1999, 1998, 1997, 1996, 1995, 1994, 1993, 1992, 1991, 1990, 1989, 1988, 1987, 1986, 1985, 1984, 1983, 1982, 1981, 1980, 1979, 1978, 1977, 1976, 1975, 1974, 1973, 1972, 1971, 1970, 1969, 1968, 1967, 1966, 1965, 1964, 1963, 1962, 1961, 1960, 1959, 1958, 1957, 1956, 1955, 1954, 1953, 1952, 1951, 1950], \"y\": [336963.5, 284085.39130434784, 269709.1, 224807.25, 229471.13402061857, 210542.9315068493, 195123.2258064516, 194896.86274509804, 215085.41666666666, 190666.66666666666, 186388.27272727274, 203667.26666666666, 206865.27777777778, 214251.6, 212588.19444444444, 206832.25806451612, 217231.81818181818, 221994.94736842104, 171611.76470588235, 184714.2857142857, 200042.0, 198318.18181818182, 190533.33333333334, 209790.0, 189400.0, 167611.11111111112, 184928.57142857142, 136880.0, 121271.42857142857, 184425.0, 154812.5, 150357.2, 158362.5, 158702.0, 159868.5, 174652.4, 159357.14285714287, 139081.81818181818, 127330.0, 120230.55555555556, 139367.3076923077, 157297.07142857142, 153095.88235294117, 131458.33333333334, 149914.66666666666, 143951.73684210525, 159218.18181818182, 139765.38461538462, 145471.42857142858, 131881.25, 145212.5, 136054.55555555556, 128386.66666666667, 132656.44444444444, 124235.0, 124511.11111111111, 121142.85714285714, 147640.0, 110398.6, 129975.0, 117463.05617977527]}],\n",
       "                        {\"legend\": {\"bgcolor\": \"#FFFFFF\", \"font\": {\"color\": \"#4D5663\"}}, \"paper_bgcolor\": \"#FFFFFF\", \"plot_bgcolor\": \"#FFFFFF\", \"title\": {\"font\": {\"color\": \"#4D5663\"}, \"text\": \"Average Price per Year of Renovation\"}, \"xaxis\": {\"gridcolor\": \"#E1E5ED\", \"showgrid\": true, \"tickfont\": {\"color\": \"#4D5663\"}, \"title\": {\"font\": {\"color\": \"#4D5663\"}, \"text\": \"Renovation Year\"}, \"zerolinecolor\": \"#E1E5ED\"}, \"yaxis\": {\"gridcolor\": \"#E1E5ED\", \"showgrid\": true, \"tickfont\": {\"color\": \"#4D5663\"}, \"title\": {\"font\": {\"color\": \"#4D5663\"}, \"text\": \"Average Price\"}, \"zerolinecolor\": \"#E1E5ED\"}},\n",
       "                        {\"showLink\": true, \"linkText\": \"Export to plot.ly\", \"plotlyServerURL\": \"https://plot.ly\", \"responsive\": true}\n",
       "                    ).then(function(){\n",
       "                            \n",
       "var gd = document.getElementById('a53580ec-cd92-406e-9381-9f3df1dfb71c');\n",
       "var x = new MutationObserver(function (mutations, observer) {{\n",
       "        var display = window.getComputedStyle(gd).display;\n",
       "        if (!display || display === 'none') {{\n",
       "            console.log([gd, 'removed!']);\n",
       "            Plotly.purge(gd);\n",
       "            observer.disconnect();\n",
       "        }}\n",
       "}});\n",
       "\n",
       "// Listen for the removal of the full notebook cells\n",
       "var notebookContainer = gd.closest('#notebook-container');\n",
       "if (notebookContainer) {{\n",
       "    x.observe(notebookContainer, {childList: true});\n",
       "}}\n",
       "\n",
       "// Listen for the clearing of the current output cell\n",
       "var outputEl = gd.closest('.output');\n",
       "if (outputEl) {{\n",
       "    x.observe(outputEl, {childList: true});\n",
       "}}\n",
       "\n",
       "                        })\n",
       "                };\n",
       "                });\n",
       "            </script>\n",
       "        </div>"
      ]
     },
     "metadata": {},
     "output_type": "display_data"
    }
   ],
   "source": [
    "age.iplot(kind='bar', mode='markers', x='YearBuilt', y='SalePrice', \n",
    "              xTitle='Construction Year', yTitle='Average Price', \n",
    "              title='Average Price per Year of Construction', color='brown')\n",
    "reno.iplot(kind='bar', mode='markers', x='YearRemodAdd', y='SalePrice', \n",
    "              xTitle='Renovation Year', yTitle='Average Price', \n",
    "              title='Average Price per Year of Renovation', color='brown')"
   ]
  },
  {
   "cell_type": "markdown",
   "metadata": {
    "extensions": {
     "jupyter_dashboards": {
      "version": 1,
      "views": {
       "grid_default": {},
       "report_default": {
        "hidden": false
       }
      }
     }
    }
   },
   "source": [
    "### Factor 4: The number of Baths"
   ]
  },
  {
   "cell_type": "markdown",
   "metadata": {},
   "source": [
    "**The total number of baths** is correlated with the price of the house.<br>\n",
    "That means, that the more baths, the highest is the price.<br>\n",
    "But, this only aplies till the 5th bath. The 6th bath do not give extra value to the houses."
   ]
  },
  {
   "cell_type": "code",
   "execution_count": 30,
   "metadata": {
    "extensions": {
     "jupyter_dashboards": {
      "version": 1,
      "views": {
       "grid_default": {},
       "report_default": {
        "hidden": true
       }
      }
     }
    }
   },
   "outputs": [],
   "source": [
    "baths = df.groupby('TotalBaths')['SalePrice'].mean().reset_index()\n",
    "baths = baths.sort_values(by='TotalBaths',ascending=False)"
   ]
  },
  {
   "cell_type": "code",
   "execution_count": 31,
   "metadata": {
    "extensions": {
     "jupyter_dashboards": {
      "version": 1,
      "views": {
       "grid_default": {},
       "report_default": {
        "hidden": true
       }
      }
     }
    }
   },
   "outputs": [
    {
     "data": {
      "application/vnd.plotly.v1+json": {
       "config": {
        "linkText": "Export to plot.ly",
        "plotlyServerURL": "https://plot.ly",
        "showLink": true
       },
       "data": [
        {
         "marker": {
          "color": "rgba(0, 100, 0, 0.6)",
          "line": {
           "color": "rgba(0, 100, 0, 1.0)",
           "width": 1
          }
         },
         "name": "SalePrice",
         "orientation": "v",
         "text": "",
         "type": "bar",
         "uid": "5ff9f6fd-bf3b-4425-ba58-764be2e6235b",
         "x": [
          6,
          5,
          4,
          3,
          2,
          1
         ],
         "y": [
          174966.66666666666,
          444693.75,
          263504.3546511628,
          212191.2033542977,
          154276.67482517482,
          110869.67105263157
         ]
        }
       ],
       "layout": {
        "legend": {
         "bgcolor": "#FFFFFF",
         "font": {
          "color": "#4D5663"
         }
        },
        "paper_bgcolor": "#FFFFFF",
        "plot_bgcolor": "#FFFFFF",
        "title": {
         "font": {
          "color": "#4D5663"
         },
         "text": "Average Price per Total Number of Baths"
        },
        "xaxis": {
         "gridcolor": "#E1E5ED",
         "showgrid": true,
         "tickfont": {
          "color": "#4D5663"
         },
         "title": {
          "font": {
           "color": "#4D5663"
          },
          "text": "Total Number of Baths"
         },
         "zerolinecolor": "#E1E5ED"
        },
        "yaxis": {
         "gridcolor": "#E1E5ED",
         "showgrid": true,
         "tickfont": {
          "color": "#4D5663"
         },
         "title": {
          "font": {
           "color": "#4D5663"
          },
          "text": "Average Price"
         },
         "zerolinecolor": "#E1E5ED"
        }
       }
      },
      "text/html": [
       "<div>\n",
       "        \n",
       "        \n",
       "            <div id=\"e96ef905-b6c6-4418-8a03-ddb95e7f5b19\" class=\"plotly-graph-div\" style=\"height:525px; width:100%;\"></div>\n",
       "            <script type=\"text/javascript\">\n",
       "                require([\"plotly\"], function(Plotly) {\n",
       "                    window.PLOTLYENV=window.PLOTLYENV || {};\n",
       "                    window.PLOTLYENV.BASE_URL='https://plot.ly';\n",
       "                    \n",
       "                if (document.getElementById(\"e96ef905-b6c6-4418-8a03-ddb95e7f5b19\")) {\n",
       "                    Plotly.newPlot(\n",
       "                        'e96ef905-b6c6-4418-8a03-ddb95e7f5b19',\n",
       "                        [{\"marker\": {\"color\": \"rgba(0, 100, 0, 0.6)\", \"line\": {\"color\": \"rgba(0, 100, 0, 1.0)\", \"width\": 1}}, \"name\": \"SalePrice\", \"orientation\": \"v\", \"text\": \"\", \"type\": \"bar\", \"uid\": \"5ff9f6fd-bf3b-4425-ba58-764be2e6235b\", \"x\": [6, 5, 4, 3, 2, 1], \"y\": [174966.66666666666, 444693.75, 263504.3546511628, 212191.2033542977, 154276.67482517482, 110869.67105263157]}],\n",
       "                        {\"legend\": {\"bgcolor\": \"#FFFFFF\", \"font\": {\"color\": \"#4D5663\"}}, \"paper_bgcolor\": \"#FFFFFF\", \"plot_bgcolor\": \"#FFFFFF\", \"title\": {\"font\": {\"color\": \"#4D5663\"}, \"text\": \"Average Price per Total Number of Baths\"}, \"xaxis\": {\"gridcolor\": \"#E1E5ED\", \"showgrid\": true, \"tickfont\": {\"color\": \"#4D5663\"}, \"title\": {\"font\": {\"color\": \"#4D5663\"}, \"text\": \"Total Number of Baths\"}, \"zerolinecolor\": \"#E1E5ED\"}, \"yaxis\": {\"gridcolor\": \"#E1E5ED\", \"showgrid\": true, \"tickfont\": {\"color\": \"#4D5663\"}, \"title\": {\"font\": {\"color\": \"#4D5663\"}, \"text\": \"Average Price\"}, \"zerolinecolor\": \"#E1E5ED\"}},\n",
       "                        {\"showLink\": true, \"linkText\": \"Export to plot.ly\", \"plotlyServerURL\": \"https://plot.ly\", \"responsive\": true}\n",
       "                    ).then(function(){\n",
       "                            \n",
       "var gd = document.getElementById('e96ef905-b6c6-4418-8a03-ddb95e7f5b19');\n",
       "var x = new MutationObserver(function (mutations, observer) {{\n",
       "        var display = window.getComputedStyle(gd).display;\n",
       "        if (!display || display === 'none') {{\n",
       "            console.log([gd, 'removed!']);\n",
       "            Plotly.purge(gd);\n",
       "            observer.disconnect();\n",
       "        }}\n",
       "}});\n",
       "\n",
       "// Listen for the removal of the full notebook cells\n",
       "var notebookContainer = gd.closest('#notebook-container');\n",
       "if (notebookContainer) {{\n",
       "    x.observe(notebookContainer, {childList: true});\n",
       "}}\n",
       "\n",
       "// Listen for the clearing of the current output cell\n",
       "var outputEl = gd.closest('.output');\n",
       "if (outputEl) {{\n",
       "    x.observe(outputEl, {childList: true});\n",
       "}}\n",
       "\n",
       "                        })\n",
       "                };\n",
       "                });\n",
       "            </script>\n",
       "        </div>"
      ]
     },
     "metadata": {},
     "output_type": "display_data"
    }
   ],
   "source": [
    "baths.iplot(kind='bar', mode='markers', x='TotalBaths', y='SalePrice', \n",
    "              xTitle='Total Number of Baths', yTitle='Average Price', \n",
    "              title='Average Price per Total Number of Baths', color='darkgreen')"
   ]
  },
  {
   "cell_type": "markdown",
   "metadata": {
    "extensions": {
     "jupyter_dashboards": {
      "version": 1,
      "views": {
       "grid_default": {},
       "report_default": {
        "hidden": false
       }
      }
     }
    }
   },
   "source": [
    "### Factor 3: The garage cars capacity"
   ]
  },
  {
   "cell_type": "markdown",
   "metadata": {},
   "source": [
    "**The garage cars capacity** is positive correlated with the price of the house.<br>\n",
    "That means, that the more cars capacity in the garage, the highest is the price.<br>\n",
    "But, this only aplies till the 3rd car. The 4th space do not give extra value to the houses."
   ]
  },
  {
   "cell_type": "code",
   "execution_count": 32,
   "metadata": {
    "extensions": {
     "jupyter_dashboards": {
      "version": 1,
      "views": {
       "grid_default": {},
       "report_default": {
        "hidden": true
       }
      }
     }
    }
   },
   "outputs": [],
   "source": [
    "garage = df.groupby('GarageCars')['SalePrice'].mean().reset_index()\n",
    "garage = garage.sort_values(by='GarageCars',ascending=False)"
   ]
  },
  {
   "cell_type": "code",
   "execution_count": 33,
   "metadata": {
    "extensions": {
     "jupyter_dashboards": {
      "version": 1,
      "views": {
       "grid_default": {},
       "report_default": {
        "hidden": true
       }
      }
     }
    }
   },
   "outputs": [
    {
     "data": {
      "application/vnd.plotly.v1+json": {
       "config": {
        "linkText": "Export to plot.ly",
        "plotlyServerURL": "https://plot.ly",
        "showLink": true
       },
       "data": [
        {
         "marker": {
          "color": "rgba(255, 140, 0, 0.6)",
          "line": {
           "color": "rgba(255, 140, 0, 1.0)",
           "width": 1
          }
         },
         "name": "SalePrice",
         "orientation": "v",
         "text": "",
         "type": "bar",
         "uid": "39e7c50b-e776-43a3-86dd-425734459fc7",
         "x": [
          4,
          3,
          2,
          1,
          0
         ],
         "y": [
          192655.8,
          309636.1215469613,
          183851.66383495147,
          128116.68834688347,
          103317.28395061729
         ]
        }
       ],
       "layout": {
        "legend": {
         "bgcolor": "#FFFFFF",
         "font": {
          "color": "#4D5663"
         }
        },
        "paper_bgcolor": "#FFFFFF",
        "plot_bgcolor": "#FFFFFF",
        "title": {
         "font": {
          "color": "#4D5663"
         },
         "text": "Average Price per Total Number of Baths"
        },
        "xaxis": {
         "gridcolor": "#E1E5ED",
         "showgrid": true,
         "tickfont": {
          "color": "#4D5663"
         },
         "title": {
          "font": {
           "color": "#4D5663"
          },
          "text": "Total Number of Baths"
         },
         "zerolinecolor": "#E1E5ED"
        },
        "yaxis": {
         "gridcolor": "#E1E5ED",
         "showgrid": true,
         "tickfont": {
          "color": "#4D5663"
         },
         "title": {
          "font": {
           "color": "#4D5663"
          },
          "text": "Average Price"
         },
         "zerolinecolor": "#E1E5ED"
        }
       }
      },
      "text/html": [
       "<div>\n",
       "        \n",
       "        \n",
       "            <div id=\"3d3f9f02-f026-4b9f-a66a-7428528ffd8f\" class=\"plotly-graph-div\" style=\"height:525px; width:100%;\"></div>\n",
       "            <script type=\"text/javascript\">\n",
       "                require([\"plotly\"], function(Plotly) {\n",
       "                    window.PLOTLYENV=window.PLOTLYENV || {};\n",
       "                    window.PLOTLYENV.BASE_URL='https://plot.ly';\n",
       "                    \n",
       "                if (document.getElementById(\"3d3f9f02-f026-4b9f-a66a-7428528ffd8f\")) {\n",
       "                    Plotly.newPlot(\n",
       "                        '3d3f9f02-f026-4b9f-a66a-7428528ffd8f',\n",
       "                        [{\"marker\": {\"color\": \"rgba(255, 140, 0, 0.6)\", \"line\": {\"color\": \"rgba(255, 140, 0, 1.0)\", \"width\": 1}}, \"name\": \"SalePrice\", \"orientation\": \"v\", \"text\": \"\", \"type\": \"bar\", \"uid\": \"39e7c50b-e776-43a3-86dd-425734459fc7\", \"x\": [4, 3, 2, 1, 0], \"y\": [192655.8, 309636.1215469613, 183851.66383495147, 128116.68834688347, 103317.28395061729]}],\n",
       "                        {\"legend\": {\"bgcolor\": \"#FFFFFF\", \"font\": {\"color\": \"#4D5663\"}}, \"paper_bgcolor\": \"#FFFFFF\", \"plot_bgcolor\": \"#FFFFFF\", \"title\": {\"font\": {\"color\": \"#4D5663\"}, \"text\": \"Average Price per Total Number of Baths\"}, \"xaxis\": {\"gridcolor\": \"#E1E5ED\", \"showgrid\": true, \"tickfont\": {\"color\": \"#4D5663\"}, \"title\": {\"font\": {\"color\": \"#4D5663\"}, \"text\": \"Total Number of Baths\"}, \"zerolinecolor\": \"#E1E5ED\"}, \"yaxis\": {\"gridcolor\": \"#E1E5ED\", \"showgrid\": true, \"tickfont\": {\"color\": \"#4D5663\"}, \"title\": {\"font\": {\"color\": \"#4D5663\"}, \"text\": \"Average Price\"}, \"zerolinecolor\": \"#E1E5ED\"}},\n",
       "                        {\"showLink\": true, \"linkText\": \"Export to plot.ly\", \"plotlyServerURL\": \"https://plot.ly\", \"responsive\": true}\n",
       "                    ).then(function(){\n",
       "                            \n",
       "var gd = document.getElementById('3d3f9f02-f026-4b9f-a66a-7428528ffd8f');\n",
       "var x = new MutationObserver(function (mutations, observer) {{\n",
       "        var display = window.getComputedStyle(gd).display;\n",
       "        if (!display || display === 'none') {{\n",
       "            console.log([gd, 'removed!']);\n",
       "            Plotly.purge(gd);\n",
       "            observer.disconnect();\n",
       "        }}\n",
       "}});\n",
       "\n",
       "// Listen for the removal of the full notebook cells\n",
       "var notebookContainer = gd.closest('#notebook-container');\n",
       "if (notebookContainer) {{\n",
       "    x.observe(notebookContainer, {childList: true});\n",
       "}}\n",
       "\n",
       "// Listen for the clearing of the current output cell\n",
       "var outputEl = gd.closest('.output');\n",
       "if (outputEl) {{\n",
       "    x.observe(outputEl, {childList: true});\n",
       "}}\n",
       "\n",
       "                        })\n",
       "                };\n",
       "                });\n",
       "            </script>\n",
       "        </div>"
      ]
     },
     "metadata": {},
     "output_type": "display_data"
    }
   ],
   "source": [
    "garage.iplot(kind='bar', mode='markers', x='GarageCars', y='SalePrice', \n",
    "              xTitle='Total Number of Baths', yTitle='Average Price', \n",
    "              title='Average Price per Total Number of Baths', color='darkorange')"
   ]
  },
  {
   "cell_type": "markdown",
   "metadata": {
    "extensions": {
     "jupyter_dashboards": {
      "version": 1,
      "views": {
       "grid_default": {},
       "report_default": {
        "hidden": false
       }
      }
     }
    }
   },
   "source": [
    "### Factor 2: The size of the house"
   ]
  },
  {
   "cell_type": "markdown",
   "metadata": {
    "extensions": {
     "jupyter_dashboards": {
      "version": 1,
      "views": {
       "grid_default": {},
       "report_default": {
        "hidden": false
       }
      }
     }
    }
   },
   "source": [
    "**The Total Square Feets** are hisghly correlated with the Sale Price of the houses.<br>\n",
    "We can affirm that **the total Sqr Feets and the Sale Price are positive linear correlated.**<br>\n",
    "That is, the bigger is the house the higher is it's price."
   ]
  },
  {
   "cell_type": "code",
   "execution_count": 34,
   "metadata": {
    "extensions": {
     "jupyter_dashboards": {
      "version": 1,
      "views": {
       "grid_default": {},
       "report_default": {
        "hidden": true
       }
      }
     }
    }
   },
   "outputs": [],
   "source": [
    "sqr = df.groupby('TotalSF')['SalePrice'].mean().reset_index()\n",
    "sqr = sqr.sort_values(by='TotalSF',ascending=False)"
   ]
  },
  {
   "cell_type": "code",
   "execution_count": 35,
   "metadata": {
    "extensions": {
     "jupyter_dashboards": {
      "version": 1,
      "views": {
       "grid_default": {},
       "report_default": {
        "hidden": false
       }
      }
     }
    }
   },
   "outputs": [
    {
     "data": {
      "application/vnd.plotly.v1+json": {
       "config": {
        "linkText": "Export to plot.ly",
        "plotlyServerURL": "https://plot.ly",
        "showLink": true
       },
       "data": [
        {
         "line": {
          "color": "rgba(0, 0, 139, 1.0)",
          "dash": "solid",
          "shape": "linear",
          "width": 1.3
         },
         "marker": {
          "size": 12,
          "symbol": "circle"
         },
         "mode": "markers",
         "name": "SalePrice",
         "text": "",
         "type": "scatter",
         "uid": "c4da00c3-2c4a-4de1-9c6a-d1bca91cd3ed",
         "x": [
          11752,
          7814,
          6872,
          6760,
          6428,
          5557,
          5496,
          5271,
          5266,
          5066,
          5048,
          4963,
          4929,
          4895,
          4860,
          4835,
          4796,
          4784,
          4694,
          4656,
          4576,
          4556,
          4555,
          4550,
          4463,
          4450,
          4446,
          4434,
          4355,
          4354,
          4320,
          4302,
          4294,
          4272,
          4263,
          4256,
          4242,
          4240,
          4232,
          4222,
          4220,
          4205,
          4202,
          4176,
          4175,
          4174,
          4172,
          4165,
          4162,
          4159,
          4154,
          4152,
          4143,
          4136,
          4100,
          4092,
          4085,
          4084,
          4080,
          4077,
          4068,
          4056,
          4046,
          4026,
          4020,
          4018,
          4014,
          4012,
          4000,
          3994,
          3993,
          3992,
          3981,
          3973,
          3960,
          3952,
          3908,
          3896,
          3882,
          3880,
          3870,
          3866,
          3864,
          3858,
          3857,
          3854,
          3849,
          3845,
          3844,
          3840,
          3837,
          3810,
          3804,
          3794,
          3788,
          3777,
          3744,
          3743,
          3738,
          3734,
          3730,
          3729,
          3724,
          3723,
          3717,
          3712,
          3708,
          3705,
          3696,
          3691,
          3688,
          3686,
          3684,
          3683,
          3676,
          3672,
          3650,
          3640,
          3628,
          3626,
          3617,
          3616,
          3615,
          3608,
          3604,
          3600,
          3593,
          3591,
          3590,
          3588,
          3584,
          3583,
          3580,
          3576,
          3572,
          3569,
          3566,
          3555,
          3542,
          3541,
          3540,
          3536,
          3534,
          3533,
          3532,
          3509,
          3508,
          3505,
          3504,
          3499,
          3492,
          3484,
          3480,
          3472,
          3468,
          3467,
          3463,
          3456,
          3453,
          3452,
          3444,
          3440,
          3438,
          3435,
          3426,
          3423,
          3422,
          3420,
          3418,
          3408,
          3407,
          3405,
          3404,
          3401,
          3396,
          3393,
          3390,
          3388,
          3387,
          3382,
          3380,
          3379,
          3378,
          3372,
          3368,
          3366,
          3360,
          3359,
          3356,
          3353,
          3350,
          3348,
          3343,
          3342,
          3340,
          3338,
          3330,
          3325,
          3322,
          3320,
          3318,
          3316,
          3314,
          3312,
          3310,
          3308,
          3304,
          3302,
          3297,
          3294,
          3288,
          3285,
          3284,
          3280,
          3277,
          3272,
          3266,
          3265,
          3264,
          3260,
          3259,
          3257,
          3254,
          3252,
          3251,
          3248,
          3245,
          3240,
          3235,
          3232,
          3231,
          3228,
          3221,
          3220,
          3219,
          3218,
          3213,
          3211,
          3208,
          3206,
          3205,
          3204,
          3200,
          3198,
          3197,
          3186,
          3184,
          3182,
          3177,
          3176,
          3171,
          3168,
          3166,
          3162,
          3160,
          3159,
          3151,
          3150,
          3148,
          3146,
          3144,
          3142,
          3139,
          3134,
          3132,
          3130,
          3128,
          3126,
          3125,
          3122,
          3120,
          3118,
          3112,
          3108,
          3104,
          3103,
          3098,
          3091,
          3087,
          3084,
          3082,
          3081,
          3077,
          3074,
          3072,
          3067,
          3066,
          3064,
          3060,
          3058,
          3055,
          3054,
          3052,
          3050,
          3047,
          3046,
          3045,
          3044,
          3040,
          3038,
          3036,
          3035,
          3034,
          3032,
          3027,
          3024,
          3010,
          3008,
          3006,
          3004,
          3003,
          3000,
          2999,
          2998,
          2996,
          2992,
          2991,
          2990,
          2988,
          2987,
          2986,
          2984,
          2978,
          2976,
          2973,
          2972,
          2971,
          2970,
          2968,
          2962,
          2961,
          2960,
          2957,
          2956,
          2955,
          2949,
          2948,
          2947,
          2943,
          2938,
          2937,
          2936,
          2932,
          2931,
          2928,
          2925,
          2920,
          2919,
          2918,
          2910,
          2906,
          2904,
          2901,
          2900,
          2898,
          2892,
          2889,
          2888,
          2886,
          2884,
          2880,
          2878,
          2875,
          2874,
          2873,
          2872,
          2871,
          2869,
          2868,
          2866,
          2862,
          2858,
          2857,
          2856,
          2854,
          2850,
          2849,
          2848,
          2846,
          2845,
          2844,
          2843,
          2838,
          2837,
          2836,
          2831,
          2829,
          2828,
          2827,
          2823,
          2820,
          2818,
          2816,
          2814,
          2810,
          2809,
          2808,
          2806,
          2804,
          2798,
          2797,
          2795,
          2793,
          2792,
          2789,
          2788,
          2784,
          2782,
          2778,
          2777,
          2775,
          2770,
          2767,
          2766,
          2765,
          2759,
          2755,
          2754,
          2752,
          2748,
          2747,
          2744,
          2742,
          2740,
          2736,
          2733,
          2729,
          2728,
          2726,
          2724,
          2717,
          2716,
          2714,
          2712,
          2711,
          2709,
          2706,
          2704,
          2700,
          2698,
          2694,
          2692,
          2688,
          2684,
          2681,
          2680,
          2679,
          2678,
          2677,
          2676,
          2674,
          2673,
          2668,
          2663,
          2660,
          2658,
          2656,
          2654,
          2653,
          2652,
          2651,
          2649,
          2648,
          2646,
          2645,
          2642,
          2635,
          2634,
          2632,
          2630,
          2628,
          2625,
          2620,
          2618,
          2617,
          2614,
          2613,
          2612,
          2610,
          2607,
          2604,
          2601,
          2600,
          2598,
          2596,
          2595,
          2594,
          2592,
          2590,
          2588,
          2584,
          2582,
          2581,
          2580,
          2576,
          2574,
          2573,
          2572,
          2570,
          2567,
          2566,
          2564,
          2563,
          2560,
          2554,
          2552,
          2550,
          2549,
          2548,
          2544,
          2542,
          2540,
          2538,
          2536,
          2535,
          2532,
          2531,
          2530,
          2525,
          2524,
          2523,
          2522,
          2520,
          2516,
          2515,
          2512,
          2508,
          2506,
          2505,
          2504,
          2502,
          2501,
          2500,
          2499,
          2496,
          2494,
          2492,
          2491,
          2490,
          2488,
          2486,
          2484,
          2482,
          2480,
          2478,
          2475,
          2473,
          2471,
          2470,
          2468,
          2466,
          2464,
          2460,
          2457,
          2456,
          2453,
          2452,
          2448,
          2446,
          2445,
          2442,
          2438,
          2436,
          2434,
          2433,
          2432,
          2431,
          2430,
          2428,
          2424,
          2419,
          2416,
          2414,
          2412,
          2411,
          2408,
          2405,
          2402,
          2401,
          2400,
          2398,
          2395,
          2394,
          2392,
          2391,
          2390,
          2388,
          2386,
          2384,
          2383,
          2378,
          2376,
          2375,
          2372,
          2371,
          2370,
          2369,
          2368,
          2364,
          2363,
          2358,
          2354,
          2352,
          2350,
          2349,
          2346,
          2338,
          2329,
          2328,
          2325,
          2319,
          2316,
          2313,
          2311,
          2310,
          2309,
          2308,
          2306,
          2304,
          2303,
          2300,
          2298,
          2296,
          2295,
          2292,
          2290,
          2288,
          2286,
          2284,
          2283,
          2282,
          2281,
          2280,
          2278,
          2272,
          2268,
          2267,
          2266,
          2265,
          2264,
          2262,
          2256,
          2254,
          2252,
          2251,
          2250,
          2249,
          2248,
          2245,
          2244,
          2242,
          2240,
          2232,
          2230,
          2228,
          2226,
          2225,
          2222,
          2217,
          2214,
          2210,
          2209,
          2207,
          2206,
          2204,
          2200,
          2198,
          2196,
          2194,
          2192,
          2189,
          2188,
          2187,
          2184,
          2183,
          2180,
          2177,
          2175,
          2174,
          2172,
          2166,
          2164,
          2163,
          2162,
          2160,
          2158,
          2156,
          2155,
          2154,
          2150,
          2148,
          2146,
          2144,
          2143,
          2138,
          2137,
          2134,
          2132,
          2130,
          2128,
          2127,
          2124,
          2121,
          2120,
          2119,
          2118,
          2116,
          2114,
          2112,
          2110,
          2108,
          2106,
          2104,
          2100,
          2099,
          2096,
          2094,
          2091,
          2084,
          2082,
          2081,
          2080,
          2078,
          2074,
          2072,
          2068,
          2067,
          2064,
          2062,
          2061,
          2058,
          2056,
          2055,
          2052,
          2048,
          2046,
          2044,
          2042,
          2041,
          2040,
          2039,
          2038,
          2037,
          2036,
          2034,
          2028,
          2026,
          2024,
          2022,
          2020,
          2016,
          2015,
          2014,
          2012,
          2010,
          2008,
          2006,
          2005,
          2004,
          1999,
          1998,
          1996,
          1992,
          1991,
          1990,
          1985,
          1984,
          1980,
          1979,
          1977,
          1976,
          1973,
          1970,
          1968,
          1966,
          1962,
          1960,
          1957,
          1953,
          1950,
          1948,
          1946,
          1945,
          1944,
          1943,
          1942,
          1940,
          1938,
          1936,
          1932,
          1927,
          1926,
          1925,
          1924,
          1922,
          1920,
          1916,
          1912,
          1911,
          1910,
          1906,
          1904,
          1902,
          1900,
          1896,
          1890,
          1886,
          1880,
          1876,
          1875,
          1874,
          1872,
          1870,
          1868,
          1866,
          1865,
          1864,
          1858,
          1856,
          1855,
          1852,
          1850,
          1849,
          1848,
          1846,
          1843,
          1842,
          1840,
          1836,
          1832,
          1827,
          1826,
          1824,
          1818,
          1814,
          1812,
          1807,
          1802,
          1800,
          1799,
          1793,
          1790,
          1788,
          1784,
          1783,
          1782,
          1780,
          1778,
          1771,
          1769,
          1766,
          1764,
          1763,
          1758,
          1756,
          1745,
          1744,
          1743,
          1738,
          1734,
          1733,
          1730,
          1728,
          1727,
          1726,
          1725,
          1724,
          1722,
          1720,
          1718,
          1716,
          1700,
          1696,
          1695,
          1690,
          1688,
          1686,
          1683,
          1670,
          1668,
          1666,
          1664,
          1654,
          1653,
          1650,
          1648,
          1641,
          1638,
          1632,
          1628,
          1626,
          1624,
          1619,
          1617,
          1608,
          1596,
          1592,
          1590,
          1588,
          1587,
          1584,
          1578,
          1576,
          1574,
          1568,
          1562,
          1560,
          1558,
          1557,
          1552,
          1546,
          1536,
          1535,
          1529,
          1523,
          1521,
          1518,
          1512,
          1496,
          1494,
          1490,
          1481,
          1470,
          1450,
          1444,
          1440,
          1396,
          1386,
          1382,
          1347,
          1344,
          1340,
          1318,
          1309,
          1296,
          1294,
          1293,
          1260,
          1232,
          1224,
          1152,
          1134,
          1133,
          1128,
          1126,
          1124,
          1092,
          1076,
          1064,
          1048,
          1040,
          1015,
          999,
          960,
          944,
          930,
          912,
          882,
          845,
          827,
          728,
          720,
          334
         ],
         "y": [
          160000,
          184750,
          745000,
          755000,
          430000,
          625000,
          555000,
          410000,
          466500,
          485000,
          278000,
          295000,
          538000,
          320000,
          556581,
          284000,
          380000,
          386250,
          611657,
          345000,
          437154,
          582933,
          285000,
          200624,
          287000,
          501837,
          244000,
          268000,
          438780,
          271900,
          200000,
          256000,
          424870,
          137900,
          302000,
          403000,
          415298,
          412500,
          301000,
          350000,
          244000,
          200500,
          272000,
          250000,
          381000,
          423000,
          375000,
          446261,
          385000,
          359100,
          180000,
          465000,
          475000,
          240000,
          315000,
          372500,
          325000,
          253293,
          235000,
          402000,
          217000,
          276000,
          340000,
          402861,
          378500,
          451950,
          426000,
          325000,
          305900,
          239000,
          260000,
          333168,
          190000,
          301500,
          349485,
          440000,
          395000,
          369900,
          200000,
          265979,
          395192,
          171000,
          394617,
          310000,
          299800,
          320000,
          290000,
          342643,
          377426,
          360000,
          336000,
          340959.5,
          298640,
          303477,
          348000,
          315750,
          305000,
          325624,
          318061,
          340000,
          250000,
          338000,
          262500,
          290000,
          241500,
          394432,
          250000,
          260000,
          216837,
          290000,
          228000,
          350000,
          385000,
          326000,
          315000,
          280000,
          314813,
          319000,
          316600,
          325000,
          337000,
          317000,
          210000,
          265000,
          354000,
          230833.33333333334,
          313000,
          225000,
          147000,
          277000,
          374000,
          239686,
          315000,
          281213,
          230000,
          309000,
          328000,
          285000,
          170000,
          236500,
          275000,
          136500,
          325300,
          240000,
          370878,
          197000,
          283463,
          133900,
          319900,
          345000,
          322000,
          232500,
          267000,
          145900,
          289000,
          302000,
          151400,
          145100,
          228500,
          311872,
          200000,
          260400,
          324000,
          244400,
          265200,
          297000,
          290000,
          306201,
          296700,
          306000,
          328900,
          190000,
          274398,
          129000,
          320000,
          228000,
          268000,
          281675,
          229000,
          200000,
          307000,
          154300,
          248328,
          207500,
          213000,
          107500,
          163301.66666666666,
          294000,
          234000,
          239799,
          271000,
          259500,
          250000,
          230500,
          240000,
          145000,
          213250,
          232000,
          237500,
          290000,
          287000,
          257500,
          163500,
          192350,
          232450,
          230000,
          325000,
          289000,
          239000,
          285000,
          335000,
          228950,
          270988.5,
          207500,
          200000,
          159500,
          230000,
          240000,
          143000,
          231500,
          255000,
          227500,
          248000,
          343996.5,
          169000,
          262000,
          270000,
          242166.66666666666,
          257500,
          232000,
          238000,
          221500,
          193000,
          205000,
          277000,
          117500,
          189000,
          223750,
          228000,
          190000,
          274300,
          215000,
          222000,
          247500,
          200000,
          286000,
          222500,
          214666.66666666666,
          228000,
          220500,
          261500,
          124000,
          256300,
          275000,
          256564,
          237000,
          287090,
          179200,
          235750,
          239000,
          186700,
          239000,
          185000,
          196000,
          262500,
          269790,
          275500,
          245000,
          127500,
          277500,
          168000,
          153500,
          238875,
          209500,
          212900,
          135000,
          165500,
          195250,
          229030.5,
          230250,
          212500,
          226000,
          217500,
          250000,
          214000,
          122500,
          280000,
          206900,
          228666.66666666666,
          220000,
          281000,
          255000,
          214000,
          235000,
          270000,
          244000,
          250000,
          284000,
          233000,
          193500,
          274000,
          252000,
          243500,
          167000,
          256000,
          310000,
          214750,
          203000,
          263000,
          248651,
          145000,
          190000,
          163000,
          233230,
          204900,
          225000,
          204000,
          212000,
          256833.33333333334,
          106000,
          200000,
          250000,
          210950,
          215000,
          217000,
          169750,
          208900,
          175000,
          175000,
          275000,
          225000,
          265900,
          213000,
          157000,
          175900,
          282922,
          180000,
          191000,
          225000,
          254900,
          150000,
          234300,
          192300,
          234000,
          183250,
          239000,
          124500,
          205000,
          192000,
          143000,
          190000,
          177500,
          150000,
          206250,
          274970,
          161500,
          274725,
          189000,
          143000,
          196975,
          150300,
          195000,
          169700,
          218000,
          187500,
          168666.66666666666,
          168000,
          87000,
          213490,
          180500,
          192000,
          169500,
          235000,
          218515.6,
          235000,
          184166.66666666666,
          136900,
          137000,
          184000,
          193060,
          180866.66666666666,
          187100,
          392000,
          143966.66666666666,
          143900,
          239000,
          202500,
          185500,
          214000,
          226000,
          216500,
          190000,
          199900,
          122000,
          173875,
          177000,
          158000,
          215000,
          175000,
          189000,
          82500,
          195000,
          147250,
          194000,
          203620,
          159000,
          156875,
          187500,
          170000,
          191666.66666666666,
          219500,
          237000,
          234217.5,
          155125,
          183500,
          191000,
          231500,
          205000,
          245392.66666666666,
          241500,
          167500,
          213290,
          190842,
          198500,
          187944.16666666666,
          160000,
          215000,
          190083.33333333334,
          129900,
          178850,
          127000,
          203666.66666666666,
          161500,
          192500,
          214900,
          172500,
          223500,
          208900,
          210000,
          179000,
          218200,
          231500,
          185766.66666666666,
          166566.66666666666,
          207000,
          181134,
          132500,
          170000,
          95000,
          178666.66666666666,
          182500,
          188500,
          159000,
          193000,
          194201,
          168000,
          143000,
          242000,
          165500,
          224900,
          162900,
          201000,
          198625,
          159000,
          197900,
          241000,
          227875,
          219350,
          185065.5,
          173000,
          192586.4,
          168000,
          164990,
          149000,
          172400,
          190152,
          104000,
          196000,
          204750,
          194500,
          174161.66666666666,
          172500,
          175000,
          172500,
          185500,
          177550,
          170375,
          198750,
          211000,
          148750,
          137450,
          150000,
          192000,
          200719.75,
          140000,
          162250,
          181900,
          168600,
          192140,
          176500,
          208500,
          164000,
          220000,
          202750,
          167000,
          60000,
          185000,
          140200,
          224250,
          118500,
          192250,
          219500,
          189750,
          137750,
          140000,
          163697.5,
          138887,
          173000,
          192000,
          168833.33333333334,
          176000,
          164075,
          177000,
          166875,
          213000,
          147500,
          180000,
          157000,
          144000,
          142000,
          160000,
          157000,
          205000,
          175000,
          155346.66666666666,
          197000,
          166750,
          195000,
          173000,
          183000,
          200500,
          162725,
          199900,
          194000,
          205950,
          199250,
          159000,
          140000,
          98600,
          165950,
          141500,
          154833.33333333334,
          182000,
          133000,
          149103,
          136966.66666666666,
          168200,
          165000,
          100000,
          141200,
          185000,
          178000,
          208300,
          160000,
          148000,
          176666.66666666666,
          188000,
          155000,
          141500,
          182000,
          194000,
          180200,
          147500,
          160000,
          135000,
          162000,
          173000,
          165400,
          178000,
          154680,
          148950,
          206000,
          163000,
          124450,
          167900,
          163312.5,
          146500,
          124000,
          133000,
          187000,
          168000,
          165450,
          188700,
          146500,
          164900,
          155166.66666666666,
          178000,
          141500,
          175900,
          135000,
          183500,
          157000,
          173600,
          162000,
          181000,
          197000,
          157983.33333333334,
          177500,
          132500,
          149587.5,
          137500,
          158000,
          172217,
          152833.33333333334,
          134168.5,
          208250,
          154000,
          134450,
          190250,
          215200,
          141000,
          153000,
          137833.33333333334,
          166000,
          173000,
          160200,
          133987.5,
          140000,
          126500,
          154000,
          142500,
          177000,
          84500,
          166500,
          145500,
          171500,
          162466.66666666666,
          91500,
          155133.33333333334,
          174500,
          170000,
          148000,
          161000,
          167500,
          127500,
          149633.33333333334,
          176000,
          155000,
          179400,
          166250,
          139500,
          134984.33333333334,
          129000,
          115000,
          144333.33333333334,
          154750,
          135000,
          113000,
          174000,
          152100,
          158000,
          135500,
          165500,
          110500,
          157250,
          156750,
          134200,
          135000,
          145000,
          135650,
          172500,
          134000,
          176000,
          162461.11111111112,
          174000,
          157000,
          147000,
          151975,
          125000,
          139966.66666666666,
          125000,
          126600,
          132333.33333333334,
          170000,
          123250,
          143000,
          137175,
          141000,
          140000,
          182332.5,
          157733.33333333334,
          123826.66666666667,
          120000,
          183900,
          133750,
          152000,
          134000,
          143000,
          131875,
          123500,
          154500,
          179900,
          178000,
          135500,
          128000,
          162000,
          159500,
          120500,
          138771.42857142858,
          159950,
          151000,
          145500,
          145250,
          131766.66666666666,
          79900,
          135000,
          153575,
          146800,
          91000,
          134250,
          153875,
          135671.42857142858,
          131500,
          154900,
          149500,
          118000,
          161000,
          137333.33333333334,
          155000,
          150000,
          138700,
          102000,
          165000,
          135252,
          118500,
          158450,
          85000,
          115000,
          108300,
          135000,
          127000,
          78235.5,
          102776,
          134333.33333333334,
          76500,
          156932,
          85000,
          118400,
          190000,
          132000,
          130125,
          158000,
          147250,
          80000,
          115000,
          145133.33333333334,
          142500,
          104900,
          129250,
          127500,
          132500,
          128000,
          108000,
          135000,
          137500,
          125500,
          175000,
          132800,
          135000,
          121600,
          120750,
          118000,
          149900,
          114250,
          93500,
          143250,
          135250,
          127000,
          131000,
          125500,
          93500,
          102000,
          143500,
          132000,
          178400,
          128500,
          132500,
          122000,
          108000,
          121125,
          117500,
          180000,
          127500,
          134500,
          198500,
          110750,
          147625,
          122500,
          129450,
          127000,
          112000,
          131916.66666666666,
          109250,
          119500,
          113500,
          109100,
          120480,
          123750,
          130250,
          168300,
          127325,
          120666.66666666667,
          137000,
          133000,
          163900,
          132500,
          121500,
          168500,
          134833.33333333334,
          100000,
          145000,
          117500,
          159500,
          110000,
          143000,
          120000,
          81000,
          163500,
          145911,
          120000,
          184100,
          68400,
          129642.85714285714,
          105000,
          153002.66666666666,
          111000,
          66500,
          107900,
          133950,
          119500,
          119900,
          124000,
          118425,
          124000,
          88000,
          122000,
          109900,
          146500,
          115000,
          109000,
          123500,
          112900,
          130000,
          142500,
          118500,
          139400,
          130000,
          147400,
          132500,
          126000,
          139600,
          123000,
          112658.31818181818,
          112000,
          145000,
          89500,
          144000,
          82500,
          147576,
          151000,
          109180,
          137000,
          142427.27272727274,
          155000,
          129500,
          100000,
          132000,
          128450,
          110000,
          79000,
          114500,
          102750,
          130000,
          148800,
          125000,
          85000,
          101000,
          82166.66666666667,
          119840,
          103000,
          110000,
          64500,
          144333.33333333334,
          88000,
          145000,
          101450,
          86333.33333333333,
          105000,
          134432,
          61000,
          55993,
          115000,
          100000,
          128500,
          84600,
          82000,
          117200,
          91000,
          96500,
          110500,
          110000,
          132133.33333333334,
          118911,
          98000,
          87000,
          79500,
          120500,
          87000,
          125000,
          80000,
          133000,
          139000,
          96628.57142857143,
          91000,
          73000,
          34900,
          118000,
          52500,
          86000,
          79900,
          108966.66666666667,
          120000,
          79000,
          85500,
          90000,
          106250,
          83000,
          83166.66666666667,
          89000,
          101800,
          82000,
          90350,
          86000,
          82500,
          108000,
          93000,
          55000,
          91300,
          60000,
          98300,
          92037.5,
          116000,
          52000,
          35311,
          82000,
          84900,
          80500,
          101750,
          84000,
          107500,
          60000,
          72500,
          39300
         ]
        }
       ],
       "layout": {
        "legend": {
         "bgcolor": "#FFFFFF",
         "font": {
          "color": "#4D5663"
         }
        },
        "paper_bgcolor": "#FFFFFF",
        "plot_bgcolor": "#FFFFFF",
        "title": {
         "font": {
          "color": "#4D5663"
         },
         "text": "Average Price per Total Square Feet"
        },
        "xaxis": {
         "gridcolor": "#E1E5ED",
         "showgrid": true,
         "tickfont": {
          "color": "#4D5663"
         },
         "title": {
          "font": {
           "color": "#4D5663"
          },
          "text": "Total Square Feet"
         },
         "zerolinecolor": "#E1E5ED"
        },
        "yaxis": {
         "gridcolor": "#E1E5ED",
         "showgrid": true,
         "tickfont": {
          "color": "#4D5663"
         },
         "title": {
          "font": {
           "color": "#4D5663"
          },
          "text": "Average Price"
         },
         "zerolinecolor": "#E1E5ED"
        }
       }
      },
      "text/html": [
       "<div>\n",
       "        \n",
       "        \n",
       "            <div id=\"d191a685-2bbc-4d25-8b5e-0dcce4ee337d\" class=\"plotly-graph-div\" style=\"height:525px; width:100%;\"></div>\n",
       "            <script type=\"text/javascript\">\n",
       "                require([\"plotly\"], function(Plotly) {\n",
       "                    window.PLOTLYENV=window.PLOTLYENV || {};\n",
       "                    window.PLOTLYENV.BASE_URL='https://plot.ly';\n",
       "                    \n",
       "                if (document.getElementById(\"d191a685-2bbc-4d25-8b5e-0dcce4ee337d\")) {\n",
       "                    Plotly.newPlot(\n",
       "                        'd191a685-2bbc-4d25-8b5e-0dcce4ee337d',\n",
       "                        [{\"line\": {\"color\": \"rgba(0, 0, 139, 1.0)\", \"dash\": \"solid\", \"shape\": \"linear\", \"width\": 1.3}, \"marker\": {\"size\": 12, \"symbol\": \"circle\"}, \"mode\": \"markers\", \"name\": \"SalePrice\", \"text\": \"\", \"type\": \"scatter\", \"uid\": \"c4da00c3-2c4a-4de1-9c6a-d1bca91cd3ed\", \"x\": [11752, 7814, 6872, 6760, 6428, 5557, 5496, 5271, 5266, 5066, 5048, 4963, 4929, 4895, 4860, 4835, 4796, 4784, 4694, 4656, 4576, 4556, 4555, 4550, 4463, 4450, 4446, 4434, 4355, 4354, 4320, 4302, 4294, 4272, 4263, 4256, 4242, 4240, 4232, 4222, 4220, 4205, 4202, 4176, 4175, 4174, 4172, 4165, 4162, 4159, 4154, 4152, 4143, 4136, 4100, 4092, 4085, 4084, 4080, 4077, 4068, 4056, 4046, 4026, 4020, 4018, 4014, 4012, 4000, 3994, 3993, 3992, 3981, 3973, 3960, 3952, 3908, 3896, 3882, 3880, 3870, 3866, 3864, 3858, 3857, 3854, 3849, 3845, 3844, 3840, 3837, 3810, 3804, 3794, 3788, 3777, 3744, 3743, 3738, 3734, 3730, 3729, 3724, 3723, 3717, 3712, 3708, 3705, 3696, 3691, 3688, 3686, 3684, 3683, 3676, 3672, 3650, 3640, 3628, 3626, 3617, 3616, 3615, 3608, 3604, 3600, 3593, 3591, 3590, 3588, 3584, 3583, 3580, 3576, 3572, 3569, 3566, 3555, 3542, 3541, 3540, 3536, 3534, 3533, 3532, 3509, 3508, 3505, 3504, 3499, 3492, 3484, 3480, 3472, 3468, 3467, 3463, 3456, 3453, 3452, 3444, 3440, 3438, 3435, 3426, 3423, 3422, 3420, 3418, 3408, 3407, 3405, 3404, 3401, 3396, 3393, 3390, 3388, 3387, 3382, 3380, 3379, 3378, 3372, 3368, 3366, 3360, 3359, 3356, 3353, 3350, 3348, 3343, 3342, 3340, 3338, 3330, 3325, 3322, 3320, 3318, 3316, 3314, 3312, 3310, 3308, 3304, 3302, 3297, 3294, 3288, 3285, 3284, 3280, 3277, 3272, 3266, 3265, 3264, 3260, 3259, 3257, 3254, 3252, 3251, 3248, 3245, 3240, 3235, 3232, 3231, 3228, 3221, 3220, 3219, 3218, 3213, 3211, 3208, 3206, 3205, 3204, 3200, 3198, 3197, 3186, 3184, 3182, 3177, 3176, 3171, 3168, 3166, 3162, 3160, 3159, 3151, 3150, 3148, 3146, 3144, 3142, 3139, 3134, 3132, 3130, 3128, 3126, 3125, 3122, 3120, 3118, 3112, 3108, 3104, 3103, 3098, 3091, 3087, 3084, 3082, 3081, 3077, 3074, 3072, 3067, 3066, 3064, 3060, 3058, 3055, 3054, 3052, 3050, 3047, 3046, 3045, 3044, 3040, 3038, 3036, 3035, 3034, 3032, 3027, 3024, 3010, 3008, 3006, 3004, 3003, 3000, 2999, 2998, 2996, 2992, 2991, 2990, 2988, 2987, 2986, 2984, 2978, 2976, 2973, 2972, 2971, 2970, 2968, 2962, 2961, 2960, 2957, 2956, 2955, 2949, 2948, 2947, 2943, 2938, 2937, 2936, 2932, 2931, 2928, 2925, 2920, 2919, 2918, 2910, 2906, 2904, 2901, 2900, 2898, 2892, 2889, 2888, 2886, 2884, 2880, 2878, 2875, 2874, 2873, 2872, 2871, 2869, 2868, 2866, 2862, 2858, 2857, 2856, 2854, 2850, 2849, 2848, 2846, 2845, 2844, 2843, 2838, 2837, 2836, 2831, 2829, 2828, 2827, 2823, 2820, 2818, 2816, 2814, 2810, 2809, 2808, 2806, 2804, 2798, 2797, 2795, 2793, 2792, 2789, 2788, 2784, 2782, 2778, 2777, 2775, 2770, 2767, 2766, 2765, 2759, 2755, 2754, 2752, 2748, 2747, 2744, 2742, 2740, 2736, 2733, 2729, 2728, 2726, 2724, 2717, 2716, 2714, 2712, 2711, 2709, 2706, 2704, 2700, 2698, 2694, 2692, 2688, 2684, 2681, 2680, 2679, 2678, 2677, 2676, 2674, 2673, 2668, 2663, 2660, 2658, 2656, 2654, 2653, 2652, 2651, 2649, 2648, 2646, 2645, 2642, 2635, 2634, 2632, 2630, 2628, 2625, 2620, 2618, 2617, 2614, 2613, 2612, 2610, 2607, 2604, 2601, 2600, 2598, 2596, 2595, 2594, 2592, 2590, 2588, 2584, 2582, 2581, 2580, 2576, 2574, 2573, 2572, 2570, 2567, 2566, 2564, 2563, 2560, 2554, 2552, 2550, 2549, 2548, 2544, 2542, 2540, 2538, 2536, 2535, 2532, 2531, 2530, 2525, 2524, 2523, 2522, 2520, 2516, 2515, 2512, 2508, 2506, 2505, 2504, 2502, 2501, 2500, 2499, 2496, 2494, 2492, 2491, 2490, 2488, 2486, 2484, 2482, 2480, 2478, 2475, 2473, 2471, 2470, 2468, 2466, 2464, 2460, 2457, 2456, 2453, 2452, 2448, 2446, 2445, 2442, 2438, 2436, 2434, 2433, 2432, 2431, 2430, 2428, 2424, 2419, 2416, 2414, 2412, 2411, 2408, 2405, 2402, 2401, 2400, 2398, 2395, 2394, 2392, 2391, 2390, 2388, 2386, 2384, 2383, 2378, 2376, 2375, 2372, 2371, 2370, 2369, 2368, 2364, 2363, 2358, 2354, 2352, 2350, 2349, 2346, 2338, 2329, 2328, 2325, 2319, 2316, 2313, 2311, 2310, 2309, 2308, 2306, 2304, 2303, 2300, 2298, 2296, 2295, 2292, 2290, 2288, 2286, 2284, 2283, 2282, 2281, 2280, 2278, 2272, 2268, 2267, 2266, 2265, 2264, 2262, 2256, 2254, 2252, 2251, 2250, 2249, 2248, 2245, 2244, 2242, 2240, 2232, 2230, 2228, 2226, 2225, 2222, 2217, 2214, 2210, 2209, 2207, 2206, 2204, 2200, 2198, 2196, 2194, 2192, 2189, 2188, 2187, 2184, 2183, 2180, 2177, 2175, 2174, 2172, 2166, 2164, 2163, 2162, 2160, 2158, 2156, 2155, 2154, 2150, 2148, 2146, 2144, 2143, 2138, 2137, 2134, 2132, 2130, 2128, 2127, 2124, 2121, 2120, 2119, 2118, 2116, 2114, 2112, 2110, 2108, 2106, 2104, 2100, 2099, 2096, 2094, 2091, 2084, 2082, 2081, 2080, 2078, 2074, 2072, 2068, 2067, 2064, 2062, 2061, 2058, 2056, 2055, 2052, 2048, 2046, 2044, 2042, 2041, 2040, 2039, 2038, 2037, 2036, 2034, 2028, 2026, 2024, 2022, 2020, 2016, 2015, 2014, 2012, 2010, 2008, 2006, 2005, 2004, 1999, 1998, 1996, 1992, 1991, 1990, 1985, 1984, 1980, 1979, 1977, 1976, 1973, 1970, 1968, 1966, 1962, 1960, 1957, 1953, 1950, 1948, 1946, 1945, 1944, 1943, 1942, 1940, 1938, 1936, 1932, 1927, 1926, 1925, 1924, 1922, 1920, 1916, 1912, 1911, 1910, 1906, 1904, 1902, 1900, 1896, 1890, 1886, 1880, 1876, 1875, 1874, 1872, 1870, 1868, 1866, 1865, 1864, 1858, 1856, 1855, 1852, 1850, 1849, 1848, 1846, 1843, 1842, 1840, 1836, 1832, 1827, 1826, 1824, 1818, 1814, 1812, 1807, 1802, 1800, 1799, 1793, 1790, 1788, 1784, 1783, 1782, 1780, 1778, 1771, 1769, 1766, 1764, 1763, 1758, 1756, 1745, 1744, 1743, 1738, 1734, 1733, 1730, 1728, 1727, 1726, 1725, 1724, 1722, 1720, 1718, 1716, 1700, 1696, 1695, 1690, 1688, 1686, 1683, 1670, 1668, 1666, 1664, 1654, 1653, 1650, 1648, 1641, 1638, 1632, 1628, 1626, 1624, 1619, 1617, 1608, 1596, 1592, 1590, 1588, 1587, 1584, 1578, 1576, 1574, 1568, 1562, 1560, 1558, 1557, 1552, 1546, 1536, 1535, 1529, 1523, 1521, 1518, 1512, 1496, 1494, 1490, 1481, 1470, 1450, 1444, 1440, 1396, 1386, 1382, 1347, 1344, 1340, 1318, 1309, 1296, 1294, 1293, 1260, 1232, 1224, 1152, 1134, 1133, 1128, 1126, 1124, 1092, 1076, 1064, 1048, 1040, 1015, 999, 960, 944, 930, 912, 882, 845, 827, 728, 720, 334], \"y\": [160000.0, 184750.0, 745000.0, 755000.0, 430000.0, 625000.0, 555000.0, 410000.0, 466500.0, 485000.0, 278000.0, 295000.0, 538000.0, 320000.0, 556581.0, 284000.0, 380000.0, 386250.0, 611657.0, 345000.0, 437154.0, 582933.0, 285000.0, 200624.0, 287000.0, 501837.0, 244000.0, 268000.0, 438780.0, 271900.0, 200000.0, 256000.0, 424870.0, 137900.0, 302000.0, 403000.0, 415298.0, 412500.0, 301000.0, 350000.0, 244000.0, 200500.0, 272000.0, 250000.0, 381000.0, 423000.0, 375000.0, 446261.0, 385000.0, 359100.0, 180000.0, 465000.0, 475000.0, 240000.0, 315000.0, 372500.0, 325000.0, 253293.0, 235000.0, 402000.0, 217000.0, 276000.0, 340000.0, 402861.0, 378500.0, 451950.0, 426000.0, 325000.0, 305900.0, 239000.0, 260000.0, 333168.0, 190000.0, 301500.0, 349485.0, 440000.0, 395000.0, 369900.0, 200000.0, 265979.0, 395192.0, 171000.0, 394617.0, 310000.0, 299800.0, 320000.0, 290000.0, 342643.0, 377426.0, 360000.0, 336000.0, 340959.5, 298640.0, 303477.0, 348000.0, 315750.0, 305000.0, 325624.0, 318061.0, 340000.0, 250000.0, 338000.0, 262500.0, 290000.0, 241500.0, 394432.0, 250000.0, 260000.0, 216837.0, 290000.0, 228000.0, 350000.0, 385000.0, 326000.0, 315000.0, 280000.0, 314813.0, 319000.0, 316600.0, 325000.0, 337000.0, 317000.0, 210000.0, 265000.0, 354000.0, 230833.33333333334, 313000.0, 225000.0, 147000.0, 277000.0, 374000.0, 239686.0, 315000.0, 281213.0, 230000.0, 309000.0, 328000.0, 285000.0, 170000.0, 236500.0, 275000.0, 136500.0, 325300.0, 240000.0, 370878.0, 197000.0, 283463.0, 133900.0, 319900.0, 345000.0, 322000.0, 232500.0, 267000.0, 145900.0, 289000.0, 302000.0, 151400.0, 145100.0, 228500.0, 311872.0, 200000.0, 260400.0, 324000.0, 244400.0, 265200.0, 297000.0, 290000.0, 306201.0, 296700.0, 306000.0, 328900.0, 190000.0, 274398.0, 129000.0, 320000.0, 228000.0, 268000.0, 281675.0, 229000.0, 200000.0, 307000.0, 154300.0, 248328.0, 207500.0, 213000.0, 107500.0, 163301.66666666666, 294000.0, 234000.0, 239799.0, 271000.0, 259500.0, 250000.0, 230500.0, 240000.0, 145000.0, 213250.0, 232000.0, 237500.0, 290000.0, 287000.0, 257500.0, 163500.0, 192350.0, 232450.0, 230000.0, 325000.0, 289000.0, 239000.0, 285000.0, 335000.0, 228950.0, 270988.5, 207500.0, 200000.0, 159500.0, 230000.0, 240000.0, 143000.0, 231500.0, 255000.0, 227500.0, 248000.0, 343996.5, 169000.0, 262000.0, 270000.0, 242166.66666666666, 257500.0, 232000.0, 238000.0, 221500.0, 193000.0, 205000.0, 277000.0, 117500.0, 189000.0, 223750.0, 228000.0, 190000.0, 274300.0, 215000.0, 222000.0, 247500.0, 200000.0, 286000.0, 222500.0, 214666.66666666666, 228000.0, 220500.0, 261500.0, 124000.0, 256300.0, 275000.0, 256564.0, 237000.0, 287090.0, 179200.0, 235750.0, 239000.0, 186700.0, 239000.0, 185000.0, 196000.0, 262500.0, 269790.0, 275500.0, 245000.0, 127500.0, 277500.0, 168000.0, 153500.0, 238875.0, 209500.0, 212900.0, 135000.0, 165500.0, 195250.0, 229030.5, 230250.0, 212500.0, 226000.0, 217500.0, 250000.0, 214000.0, 122500.0, 280000.0, 206900.0, 228666.66666666666, 220000.0, 281000.0, 255000.0, 214000.0, 235000.0, 270000.0, 244000.0, 250000.0, 284000.0, 233000.0, 193500.0, 274000.0, 252000.0, 243500.0, 167000.0, 256000.0, 310000.0, 214750.0, 203000.0, 263000.0, 248651.0, 145000.0, 190000.0, 163000.0, 233230.0, 204900.0, 225000.0, 204000.0, 212000.0, 256833.33333333334, 106000.0, 200000.0, 250000.0, 210950.0, 215000.0, 217000.0, 169750.0, 208900.0, 175000.0, 175000.0, 275000.0, 225000.0, 265900.0, 213000.0, 157000.0, 175900.0, 282922.0, 180000.0, 191000.0, 225000.0, 254900.0, 150000.0, 234300.0, 192300.0, 234000.0, 183250.0, 239000.0, 124500.0, 205000.0, 192000.0, 143000.0, 190000.0, 177500.0, 150000.0, 206250.0, 274970.0, 161500.0, 274725.0, 189000.0, 143000.0, 196975.0, 150300.0, 195000.0, 169700.0, 218000.0, 187500.0, 168666.66666666666, 168000.0, 87000.0, 213490.0, 180500.0, 192000.0, 169500.0, 235000.0, 218515.6, 235000.0, 184166.66666666666, 136900.0, 137000.0, 184000.0, 193060.0, 180866.66666666666, 187100.0, 392000.0, 143966.66666666666, 143900.0, 239000.0, 202500.0, 185500.0, 214000.0, 226000.0, 216500.0, 190000.0, 199900.0, 122000.0, 173875.0, 177000.0, 158000.0, 215000.0, 175000.0, 189000.0, 82500.0, 195000.0, 147250.0, 194000.0, 203620.0, 159000.0, 156875.0, 187500.0, 170000.0, 191666.66666666666, 219500.0, 237000.0, 234217.5, 155125.0, 183500.0, 191000.0, 231500.0, 205000.0, 245392.66666666666, 241500.0, 167500.0, 213290.0, 190842.0, 198500.0, 187944.16666666666, 160000.0, 215000.0, 190083.33333333334, 129900.0, 178850.0, 127000.0, 203666.66666666666, 161500.0, 192500.0, 214900.0, 172500.0, 223500.0, 208900.0, 210000.0, 179000.0, 218200.0, 231500.0, 185766.66666666666, 166566.66666666666, 207000.0, 181134.0, 132500.0, 170000.0, 95000.0, 178666.66666666666, 182500.0, 188500.0, 159000.0, 193000.0, 194201.0, 168000.0, 143000.0, 242000.0, 165500.0, 224900.0, 162900.0, 201000.0, 198625.0, 159000.0, 197900.0, 241000.0, 227875.0, 219350.0, 185065.5, 173000.0, 192586.4, 168000.0, 164990.0, 149000.0, 172400.0, 190152.0, 104000.0, 196000.0, 204750.0, 194500.0, 174161.66666666666, 172500.0, 175000.0, 172500.0, 185500.0, 177550.0, 170375.0, 198750.0, 211000.0, 148750.0, 137450.0, 150000.0, 192000.0, 200719.75, 140000.0, 162250.0, 181900.0, 168600.0, 192140.0, 176500.0, 208500.0, 164000.0, 220000.0, 202750.0, 167000.0, 60000.0, 185000.0, 140200.0, 224250.0, 118500.0, 192250.0, 219500.0, 189750.0, 137750.0, 140000.0, 163697.5, 138887.0, 173000.0, 192000.0, 168833.33333333334, 176000.0, 164075.0, 177000.0, 166875.0, 213000.0, 147500.0, 180000.0, 157000.0, 144000.0, 142000.0, 160000.0, 157000.0, 205000.0, 175000.0, 155346.66666666666, 197000.0, 166750.0, 195000.0, 173000.0, 183000.0, 200500.0, 162725.0, 199900.0, 194000.0, 205950.0, 199250.0, 159000.0, 140000.0, 98600.0, 165950.0, 141500.0, 154833.33333333334, 182000.0, 133000.0, 149103.0, 136966.66666666666, 168200.0, 165000.0, 100000.0, 141200.0, 185000.0, 178000.0, 208300.0, 160000.0, 148000.0, 176666.66666666666, 188000.0, 155000.0, 141500.0, 182000.0, 194000.0, 180200.0, 147500.0, 160000.0, 135000.0, 162000.0, 173000.0, 165400.0, 178000.0, 154680.0, 148950.0, 206000.0, 163000.0, 124450.0, 167900.0, 163312.5, 146500.0, 124000.0, 133000.0, 187000.0, 168000.0, 165450.0, 188700.0, 146500.0, 164900.0, 155166.66666666666, 178000.0, 141500.0, 175900.0, 135000.0, 183500.0, 157000.0, 173600.0, 162000.0, 181000.0, 197000.0, 157983.33333333334, 177500.0, 132500.0, 149587.5, 137500.0, 158000.0, 172217.0, 152833.33333333334, 134168.5, 208250.0, 154000.0, 134450.0, 190250.0, 215200.0, 141000.0, 153000.0, 137833.33333333334, 166000.0, 173000.0, 160200.0, 133987.5, 140000.0, 126500.0, 154000.0, 142500.0, 177000.0, 84500.0, 166500.0, 145500.0, 171500.0, 162466.66666666666, 91500.0, 155133.33333333334, 174500.0, 170000.0, 148000.0, 161000.0, 167500.0, 127500.0, 149633.33333333334, 176000.0, 155000.0, 179400.0, 166250.0, 139500.0, 134984.33333333334, 129000.0, 115000.0, 144333.33333333334, 154750.0, 135000.0, 113000.0, 174000.0, 152100.0, 158000.0, 135500.0, 165500.0, 110500.0, 157250.0, 156750.0, 134200.0, 135000.0, 145000.0, 135650.0, 172500.0, 134000.0, 176000.0, 162461.11111111112, 174000.0, 157000.0, 147000.0, 151975.0, 125000.0, 139966.66666666666, 125000.0, 126600.0, 132333.33333333334, 170000.0, 123250.0, 143000.0, 137175.0, 141000.0, 140000.0, 182332.5, 157733.33333333334, 123826.66666666667, 120000.0, 183900.0, 133750.0, 152000.0, 134000.0, 143000.0, 131875.0, 123500.0, 154500.0, 179900.0, 178000.0, 135500.0, 128000.0, 162000.0, 159500.0, 120500.0, 138771.42857142858, 159950.0, 151000.0, 145500.0, 145250.0, 131766.66666666666, 79900.0, 135000.0, 153575.0, 146800.0, 91000.0, 134250.0, 153875.0, 135671.42857142858, 131500.0, 154900.0, 149500.0, 118000.0, 161000.0, 137333.33333333334, 155000.0, 150000.0, 138700.0, 102000.0, 165000.0, 135252.0, 118500.0, 158450.0, 85000.0, 115000.0, 108300.0, 135000.0, 127000.0, 78235.5, 102776.0, 134333.33333333334, 76500.0, 156932.0, 85000.0, 118400.0, 190000.0, 132000.0, 130125.0, 158000.0, 147250.0, 80000.0, 115000.0, 145133.33333333334, 142500.0, 104900.0, 129250.0, 127500.0, 132500.0, 128000.0, 108000.0, 135000.0, 137500.0, 125500.0, 175000.0, 132800.0, 135000.0, 121600.0, 120750.0, 118000.0, 149900.0, 114250.0, 93500.0, 143250.0, 135250.0, 127000.0, 131000.0, 125500.0, 93500.0, 102000.0, 143500.0, 132000.0, 178400.0, 128500.0, 132500.0, 122000.0, 108000.0, 121125.0, 117500.0, 180000.0, 127500.0, 134500.0, 198500.0, 110750.0, 147625.0, 122500.0, 129450.0, 127000.0, 112000.0, 131916.66666666666, 109250.0, 119500.0, 113500.0, 109100.0, 120480.0, 123750.0, 130250.0, 168300.0, 127325.0, 120666.66666666667, 137000.0, 133000.0, 163900.0, 132500.0, 121500.0, 168500.0, 134833.33333333334, 100000.0, 145000.0, 117500.0, 159500.0, 110000.0, 143000.0, 120000.0, 81000.0, 163500.0, 145911.0, 120000.0, 184100.0, 68400.0, 129642.85714285714, 105000.0, 153002.66666666666, 111000.0, 66500.0, 107900.0, 133950.0, 119500.0, 119900.0, 124000.0, 118425.0, 124000.0, 88000.0, 122000.0, 109900.0, 146500.0, 115000.0, 109000.0, 123500.0, 112900.0, 130000.0, 142500.0, 118500.0, 139400.0, 130000.0, 147400.0, 132500.0, 126000.0, 139600.0, 123000.0, 112658.31818181818, 112000.0, 145000.0, 89500.0, 144000.0, 82500.0, 147576.0, 151000.0, 109180.0, 137000.0, 142427.27272727274, 155000.0, 129500.0, 100000.0, 132000.0, 128450.0, 110000.0, 79000.0, 114500.0, 102750.0, 130000.0, 148800.0, 125000.0, 85000.0, 101000.0, 82166.66666666667, 119840.0, 103000.0, 110000.0, 64500.0, 144333.33333333334, 88000.0, 145000.0, 101450.0, 86333.33333333333, 105000.0, 134432.0, 61000.0, 55993.0, 115000.0, 100000.0, 128500.0, 84600.0, 82000.0, 117200.0, 91000.0, 96500.0, 110500.0, 110000.0, 132133.33333333334, 118911.0, 98000.0, 87000.0, 79500.0, 120500.0, 87000.0, 125000.0, 80000.0, 133000.0, 139000.0, 96628.57142857143, 91000.0, 73000.0, 34900.0, 118000.0, 52500.0, 86000.0, 79900.0, 108966.66666666667, 120000.0, 79000.0, 85500.0, 90000.0, 106250.0, 83000.0, 83166.66666666667, 89000.0, 101800.0, 82000.0, 90350.0, 86000.0, 82500.0, 108000.0, 93000.0, 55000.0, 91300.0, 60000.0, 98300.0, 92037.5, 116000.0, 52000.0, 35311.0, 82000.0, 84900.0, 80500.0, 101750.0, 84000.0, 107500.0, 60000.0, 72500.0, 39300.0]}],\n",
       "                        {\"legend\": {\"bgcolor\": \"#FFFFFF\", \"font\": {\"color\": \"#4D5663\"}}, \"paper_bgcolor\": \"#FFFFFF\", \"plot_bgcolor\": \"#FFFFFF\", \"title\": {\"font\": {\"color\": \"#4D5663\"}, \"text\": \"Average Price per Total Square Feet\"}, \"xaxis\": {\"gridcolor\": \"#E1E5ED\", \"showgrid\": true, \"tickfont\": {\"color\": \"#4D5663\"}, \"title\": {\"font\": {\"color\": \"#4D5663\"}, \"text\": \"Total Square Feet\"}, \"zerolinecolor\": \"#E1E5ED\"}, \"yaxis\": {\"gridcolor\": \"#E1E5ED\", \"showgrid\": true, \"tickfont\": {\"color\": \"#4D5663\"}, \"title\": {\"font\": {\"color\": \"#4D5663\"}, \"text\": \"Average Price\"}, \"zerolinecolor\": \"#E1E5ED\"}},\n",
       "                        {\"showLink\": true, \"linkText\": \"Export to plot.ly\", \"plotlyServerURL\": \"https://plot.ly\", \"responsive\": true}\n",
       "                    ).then(function(){\n",
       "                            \n",
       "var gd = document.getElementById('d191a685-2bbc-4d25-8b5e-0dcce4ee337d');\n",
       "var x = new MutationObserver(function (mutations, observer) {{\n",
       "        var display = window.getComputedStyle(gd).display;\n",
       "        if (!display || display === 'none') {{\n",
       "            console.log([gd, 'removed!']);\n",
       "            Plotly.purge(gd);\n",
       "            observer.disconnect();\n",
       "        }}\n",
       "}});\n",
       "\n",
       "// Listen for the removal of the full notebook cells\n",
       "var notebookContainer = gd.closest('#notebook-container');\n",
       "if (notebookContainer) {{\n",
       "    x.observe(notebookContainer, {childList: true});\n",
       "}}\n",
       "\n",
       "// Listen for the clearing of the current output cell\n",
       "var outputEl = gd.closest('.output');\n",
       "if (outputEl) {{\n",
       "    x.observe(outputEl, {childList: true});\n",
       "}}\n",
       "\n",
       "                        })\n",
       "                };\n",
       "                });\n",
       "            </script>\n",
       "        </div>"
      ]
     },
     "metadata": {},
     "output_type": "display_data"
    }
   ],
   "source": [
    "sqr.iplot(kind='scatter', mode='markers', x='TotalSF', y='SalePrice', \n",
    "              xTitle='Total Square Feet', yTitle='Average Price', \n",
    "              title='Average Price per Total Square Feet', color='darkblue')"
   ]
  },
  {
   "cell_type": "markdown",
   "metadata": {
    "extensions": {
     "jupyter_dashboards": {
      "version": 1,
      "views": {
       "grid_default": {},
       "report_default": {
        "hidden": false
       }
      }
     }
    }
   },
   "source": [
    "### Factor 1: The quality and finishes of the house"
   ]
  },
  {
   "cell_type": "markdown",
   "metadata": {
    "extensions": {
     "jupyter_dashboards": {
      "version": 1,
      "views": {
       "grid_default": {},
       "report_default": {
        "hidden": false
       }
      }
     }
    }
   },
   "source": [
    "And finally, the most linearly correlated value with the Sale Price of the house are **the level of quality and finishes of the house**<br>\n",
    "That is, the best are the Overall Quality and Finishes of the House, the higher is the price of a house."
   ]
  },
  {
   "cell_type": "code",
   "execution_count": 36,
   "metadata": {
    "extensions": {
     "jupyter_dashboards": {
      "version": 1,
      "views": {
       "grid_default": {},
       "report_default": {
        "hidden": true
       }
      }
     }
    }
   },
   "outputs": [],
   "source": [
    "overall = df.groupby('OverallQual')['SalePrice'].mean().reset_index()"
   ]
  },
  {
   "cell_type": "code",
   "execution_count": 37,
   "metadata": {
    "extensions": {
     "jupyter_dashboards": {
      "version": 1,
      "views": {
       "grid_default": {},
       "report_default": {
        "hidden": false
       }
      }
     }
    }
   },
   "outputs": [
    {
     "data": {
      "application/vnd.plotly.v1+json": {
       "config": {
        "linkText": "Export to plot.ly",
        "plotlyServerURL": "https://plot.ly",
        "showLink": true
       },
       "data": [
        {
         "marker": {
          "color": "rgba(0, 0, 139, 0.6)",
          "line": {
           "color": "rgba(0, 0, 139, 1.0)",
           "width": 1
          }
         },
         "name": "SalePrice",
         "orientation": "v",
         "text": "",
         "type": "bar",
         "uid": "9a4abae4-7cbf-47cb-a959-553fdbdd5718",
         "x": [
          1,
          2,
          3,
          4,
          5,
          6,
          7,
          8,
          9,
          10
         ],
         "y": [
          50150,
          51770.333333333336,
          87473.75,
          108420.6551724138,
          133523.34760705288,
          161603.0347593583,
          207716.42319749217,
          274735.53571428574,
          367513.0232558139,
          438588.3888888889
         ]
        }
       ],
       "layout": {
        "legend": {
         "bgcolor": "#FFFFFF",
         "font": {
          "color": "#4D5663"
         }
        },
        "paper_bgcolor": "#FFFFFF",
        "plot_bgcolor": "#FFFFFF",
        "title": {
         "font": {
          "color": "#4D5663"
         },
         "text": "Average Price per Overall Quality"
        },
        "xaxis": {
         "gridcolor": "#E1E5ED",
         "showgrid": true,
         "tickfont": {
          "color": "#4D5663"
         },
         "title": {
          "font": {
           "color": "#4D5663"
          },
          "text": "Overall Quality"
         },
         "zerolinecolor": "#E1E5ED"
        },
        "yaxis": {
         "gridcolor": "#E1E5ED",
         "showgrid": true,
         "tickfont": {
          "color": "#4D5663"
         },
         "title": {
          "font": {
           "color": "#4D5663"
          },
          "text": "Average Price"
         },
         "zerolinecolor": "#E1E5ED"
        }
       }
      },
      "text/html": [
       "<div>\n",
       "        \n",
       "        \n",
       "            <div id=\"ba94cb11-8eb6-4751-8ddf-6dfdd0cb3b85\" class=\"plotly-graph-div\" style=\"height:525px; width:100%;\"></div>\n",
       "            <script type=\"text/javascript\">\n",
       "                require([\"plotly\"], function(Plotly) {\n",
       "                    window.PLOTLYENV=window.PLOTLYENV || {};\n",
       "                    window.PLOTLYENV.BASE_URL='https://plot.ly';\n",
       "                    \n",
       "                if (document.getElementById(\"ba94cb11-8eb6-4751-8ddf-6dfdd0cb3b85\")) {\n",
       "                    Plotly.newPlot(\n",
       "                        'ba94cb11-8eb6-4751-8ddf-6dfdd0cb3b85',\n",
       "                        [{\"marker\": {\"color\": \"rgba(0, 0, 139, 0.6)\", \"line\": {\"color\": \"rgba(0, 0, 139, 1.0)\", \"width\": 1}}, \"name\": \"SalePrice\", \"orientation\": \"v\", \"text\": \"\", \"type\": \"bar\", \"uid\": \"9a4abae4-7cbf-47cb-a959-553fdbdd5718\", \"x\": [1, 2, 3, 4, 5, 6, 7, 8, 9, 10], \"y\": [50150.0, 51770.333333333336, 87473.75, 108420.6551724138, 133523.34760705288, 161603.0347593583, 207716.42319749217, 274735.53571428574, 367513.0232558139, 438588.3888888889]}],\n",
       "                        {\"legend\": {\"bgcolor\": \"#FFFFFF\", \"font\": {\"color\": \"#4D5663\"}}, \"paper_bgcolor\": \"#FFFFFF\", \"plot_bgcolor\": \"#FFFFFF\", \"title\": {\"font\": {\"color\": \"#4D5663\"}, \"text\": \"Average Price per Overall Quality\"}, \"xaxis\": {\"gridcolor\": \"#E1E5ED\", \"showgrid\": true, \"tickfont\": {\"color\": \"#4D5663\"}, \"title\": {\"font\": {\"color\": \"#4D5663\"}, \"text\": \"Overall Quality\"}, \"zerolinecolor\": \"#E1E5ED\"}, \"yaxis\": {\"gridcolor\": \"#E1E5ED\", \"showgrid\": true, \"tickfont\": {\"color\": \"#4D5663\"}, \"title\": {\"font\": {\"color\": \"#4D5663\"}, \"text\": \"Average Price\"}, \"zerolinecolor\": \"#E1E5ED\"}},\n",
       "                        {\"showLink\": true, \"linkText\": \"Export to plot.ly\", \"plotlyServerURL\": \"https://plot.ly\", \"responsive\": true}\n",
       "                    ).then(function(){\n",
       "                            \n",
       "var gd = document.getElementById('ba94cb11-8eb6-4751-8ddf-6dfdd0cb3b85');\n",
       "var x = new MutationObserver(function (mutations, observer) {{\n",
       "        var display = window.getComputedStyle(gd).display;\n",
       "        if (!display || display === 'none') {{\n",
       "            console.log([gd, 'removed!']);\n",
       "            Plotly.purge(gd);\n",
       "            observer.disconnect();\n",
       "        }}\n",
       "}});\n",
       "\n",
       "// Listen for the removal of the full notebook cells\n",
       "var notebookContainer = gd.closest('#notebook-container');\n",
       "if (notebookContainer) {{\n",
       "    x.observe(notebookContainer, {childList: true});\n",
       "}}\n",
       "\n",
       "// Listen for the clearing of the current output cell\n",
       "var outputEl = gd.closest('.output');\n",
       "if (outputEl) {{\n",
       "    x.observe(outputEl, {childList: true});\n",
       "}}\n",
       "\n",
       "                        })\n",
       "                };\n",
       "                });\n",
       "            </script>\n",
       "        </div>"
      ]
     },
     "metadata": {},
     "output_type": "display_data"
    }
   ],
   "source": [
    "overall.iplot(kind='bar', mode='markers', x='OverallQual', y='SalePrice', \n",
    "              xTitle='Overall Quality', yTitle='Average Price', \n",
    "              title='Average Price per Overall Quality', color='darkblue')"
   ]
  }
 ],
 "metadata": {
  "extensions": {
   "jupyter_dashboards": {
    "activeView": "grid_default",
    "version": 1,
    "views": {
     "grid_default": {
      "cellMargin": 10,
      "defaultCellHeight": 20,
      "maxColumns": 12,
      "name": "grid",
      "type": "grid"
     },
     "report_default": {
      "name": "report",
      "type": "report"
     }
    }
   }
  },
  "kernelspec": {
   "display_name": "Python 3",
   "language": "python",
   "name": "python3"
  },
  "language_info": {
   "codemirror_mode": {
    "name": "ipython",
    "version": 3
   },
   "file_extension": ".py",
   "mimetype": "text/x-python",
   "name": "python",
   "nbconvert_exporter": "python",
   "pygments_lexer": "ipython3",
   "version": "3.7.3"
  },
  "toc": {
   "base_numbering": 1,
   "nav_menu": {},
   "number_sections": true,
   "sideBar": true,
   "skip_h1_title": false,
   "title_cell": "Table of Contents",
   "title_sidebar": "Contents",
   "toc_cell": false,
   "toc_position": {},
   "toc_section_display": true,
   "toc_window_display": false
  },
  "varInspector": {
   "cols": {
    "lenName": 16,
    "lenType": 16,
    "lenVar": 40
   },
   "kernels_config": {
    "python": {
     "delete_cmd_postfix": "",
     "delete_cmd_prefix": "del ",
     "library": "var_list.py",
     "varRefreshCmd": "print(var_dic_list())"
    },
    "r": {
     "delete_cmd_postfix": ") ",
     "delete_cmd_prefix": "rm(",
     "library": "var_list.r",
     "varRefreshCmd": "cat(var_dic_list()) "
    }
   },
   "types_to_exclude": [
    "module",
    "function",
    "builtin_function_or_method",
    "instance",
    "_Feature"
   ],
   "window_display": false
  }
 },
 "nbformat": 4,
 "nbformat_minor": 2
}
